{
 "cells": [
  {
   "cell_type": "markdown",
   "metadata": {},
   "source": [
    "# EDA and preprocessing"
   ]
  },
  {
   "cell_type": "code",
   "execution_count": 176,
   "metadata": {},
   "outputs": [],
   "source": [
    "import pandas as pd\n",
    "import matplotlib.pyplot as plt\n",
    "import seaborn as sns\n",
    "import spacy\n",
    "from sklearn.feature_extraction.text import TfidfVectorizer\n",
    "from sklearn.model_selection import train_test_split\n",
    "\n",
    "DATA_PATH = \"./data\"\n",
    "sections = ['environment', 'business', 'film', 'culture', 'education']"
   ]
  },
  {
   "cell_type": "code",
   "execution_count": 177,
   "metadata": {},
   "outputs": [],
   "source": [
    "dfs = [pd.read_csv(f\"{DATA_PATH}/{section}_news.csv\") for section in sections]\n",
    "df = pd.concat(dfs)"
   ]
  },
  {
   "cell_type": "markdown",
   "metadata": {},
   "source": [
    "## Exploratory data analysis"
   ]
  },
  {
   "cell_type": "code",
   "execution_count": 178,
   "metadata": {},
   "outputs": [
    {
     "data": {
      "text/html": [
       "<div>\n",
       "<style scoped>\n",
       "    .dataframe tbody tr th:only-of-type {\n",
       "        vertical-align: middle;\n",
       "    }\n",
       "\n",
       "    .dataframe tbody tr th {\n",
       "        vertical-align: top;\n",
       "    }\n",
       "\n",
       "    .dataframe thead th {\n",
       "        text-align: right;\n",
       "    }\n",
       "</style>\n",
       "<table border=\"1\" class=\"dataframe\">\n",
       "  <thead>\n",
       "    <tr style=\"text-align: right;\">\n",
       "      <th></th>\n",
       "      <th>Content</th>\n",
       "      <th>Section</th>\n",
       "    </tr>\n",
       "  </thead>\n",
       "  <tbody>\n",
       "    <tr>\n",
       "      <th>0</th>\n",
       "      <td>A Victorian woman is facing almost 300 animal...</td>\n",
       "      <td>environment</td>\n",
       "    </tr>\n",
       "    <tr>\n",
       "      <th>1</th>\n",
       "      <td>Fish populations will continue to be over-expl...</td>\n",
       "      <td>environment</td>\n",
       "    </tr>\n",
       "    <tr>\n",
       "      <th>2</th>\n",
       "      <td>The Covid-19 vaccinations captured the world’s...</td>\n",
       "      <td>environment</td>\n",
       "    </tr>\n",
       "    <tr>\n",
       "      <th>3</th>\n",
       "      <td>New international rules to tackle the “wild we...</td>\n",
       "      <td>environment</td>\n",
       "    </tr>\n",
       "    <tr>\n",
       "      <th>4</th>\n",
       "      <td>The mother of Ella Kissi-Debrah has called on ...</td>\n",
       "      <td>environment</td>\n",
       "    </tr>\n",
       "    <tr>\n",
       "      <th>...</th>\n",
       "      <td>...</td>\n",
       "      <td>...</td>\n",
       "    </tr>\n",
       "    <tr>\n",
       "      <th>2749</th>\n",
       "      <td>More than 250 former pupils at Westminster Sch...</td>\n",
       "      <td>education</td>\n",
       "    </tr>\n",
       "    <tr>\n",
       "      <th>2750</th>\n",
       "      <td>The chief inspector of schools, Amanda Spielma...</td>\n",
       "      <td>education</td>\n",
       "    </tr>\n",
       "    <tr>\n",
       "      <th>2751</th>\n",
       "      <td>Teaching unions and school leaders are to hold...</td>\n",
       "      <td>education</td>\n",
       "    </tr>\n",
       "    <tr>\n",
       "      <th>2752</th>\n",
       "      <td>Schools will prioritise pupils’ emotional and ...</td>\n",
       "      <td>education</td>\n",
       "    </tr>\n",
       "    <tr>\n",
       "      <th>2753</th>\n",
       "      <td>My wife, Enid Hankins, who has died aged 70 of...</td>\n",
       "      <td>education</td>\n",
       "    </tr>\n",
       "  </tbody>\n",
       "</table>\n",
       "<p>2754 rows × 2 columns</p>\n",
       "</div>"
      ],
      "text/plain": [
       "                                                Content      Section\n",
       "0      A Victorian woman is facing almost 300 animal...  environment\n",
       "1     Fish populations will continue to be over-expl...  environment\n",
       "2     The Covid-19 vaccinations captured the world’s...  environment\n",
       "3     New international rules to tackle the “wild we...  environment\n",
       "4     The mother of Ella Kissi-Debrah has called on ...  environment\n",
       "...                                                 ...          ...\n",
       "2749  More than 250 former pupils at Westminster Sch...    education\n",
       "2750  The chief inspector of schools, Amanda Spielma...    education\n",
       "2751  Teaching unions and school leaders are to hold...    education\n",
       "2752  Schools will prioritise pupils’ emotional and ...    education\n",
       "2753  My wife, Enid Hankins, who has died aged 70 of...    education\n",
       "\n",
       "[2754 rows x 2 columns]"
      ]
     },
     "execution_count": 178,
     "metadata": {},
     "output_type": "execute_result"
    }
   ],
   "source": [
    "df = df.reset_index(drop=True)\n",
    "df"
   ]
  },
  {
   "cell_type": "code",
   "execution_count": 179,
   "metadata": {},
   "outputs": [
    {
     "data": {
      "text/html": [
       "<div>\n",
       "<style scoped>\n",
       "    .dataframe tbody tr th:only-of-type {\n",
       "        vertical-align: middle;\n",
       "    }\n",
       "\n",
       "    .dataframe tbody tr th {\n",
       "        vertical-align: top;\n",
       "    }\n",
       "\n",
       "    .dataframe thead th {\n",
       "        text-align: right;\n",
       "    }\n",
       "</style>\n",
       "<table border=\"1\" class=\"dataframe\">\n",
       "  <thead>\n",
       "    <tr style=\"text-align: right;\">\n",
       "      <th></th>\n",
       "      <th>Content</th>\n",
       "      <th>Section</th>\n",
       "    </tr>\n",
       "  </thead>\n",
       "  <tbody>\n",
       "    <tr>\n",
       "      <th>count</th>\n",
       "      <td>2754</td>\n",
       "      <td>2754</td>\n",
       "    </tr>\n",
       "    <tr>\n",
       "      <th>unique</th>\n",
       "      <td>2711</td>\n",
       "      <td>5</td>\n",
       "    </tr>\n",
       "    <tr>\n",
       "      <th>top</th>\n",
       "      <td>In the first episode of Netflix’s latest hit s...</td>\n",
       "      <td>film</td>\n",
       "    </tr>\n",
       "    <tr>\n",
       "      <th>freq</th>\n",
       "      <td>2</td>\n",
       "      <td>599</td>\n",
       "    </tr>\n",
       "  </tbody>\n",
       "</table>\n",
       "</div>"
      ],
      "text/plain": [
       "                                                  Content Section\n",
       "count                                                2754    2754\n",
       "unique                                               2711       5\n",
       "top     In the first episode of Netflix’s latest hit s...    film\n",
       "freq                                                    2     599"
      ]
     },
     "execution_count": 179,
     "metadata": {},
     "output_type": "execute_result"
    }
   ],
   "source": [
    "df.describe()"
   ]
  },
  {
   "cell_type": "code",
   "execution_count": 180,
   "metadata": {},
   "outputs": [
    {
     "data": {
      "text/html": [
       "<div>\n",
       "<style scoped>\n",
       "    .dataframe tbody tr th:only-of-type {\n",
       "        vertical-align: middle;\n",
       "    }\n",
       "\n",
       "    .dataframe tbody tr th {\n",
       "        vertical-align: top;\n",
       "    }\n",
       "\n",
       "    .dataframe thead th {\n",
       "        text-align: right;\n",
       "    }\n",
       "</style>\n",
       "<table border=\"1\" class=\"dataframe\">\n",
       "  <thead>\n",
       "    <tr style=\"text-align: right;\">\n",
       "      <th></th>\n",
       "      <th>Content</th>\n",
       "      <th>Section</th>\n",
       "    </tr>\n",
       "  </thead>\n",
       "  <tbody>\n",
       "    <tr>\n",
       "      <th>2160</th>\n",
       "      <td>A question is posed in the group show Poet Sla...</td>\n",
       "      <td>culture</td>\n",
       "    </tr>\n",
       "    <tr>\n",
       "      <th>1988</th>\n",
       "      <td>A question is posed in the group show Poet Sla...</td>\n",
       "      <td>culture</td>\n",
       "    </tr>\n",
       "    <tr>\n",
       "      <th>2026</th>\n",
       "      <td>A stoush has erupted between the publisher of ...</td>\n",
       "      <td>culture</td>\n",
       "    </tr>\n",
       "    <tr>\n",
       "      <th>2180</th>\n",
       "      <td>A stoush has erupted between the publisher of ...</td>\n",
       "      <td>culture</td>\n",
       "    </tr>\n",
       "    <tr>\n",
       "      <th>2008</th>\n",
       "      <td>Alicia Keys, I have a bone to pick with you. F...</td>\n",
       "      <td>culture</td>\n",
       "    </tr>\n",
       "    <tr>\n",
       "      <th>2136</th>\n",
       "      <td>Alicia Keys, I have a bone to pick with you. F...</td>\n",
       "      <td>culture</td>\n",
       "    </tr>\n",
       "    <tr>\n",
       "      <th>2134</th>\n",
       "      <td>Aspiring film-makers take note: a love triangl...</td>\n",
       "      <td>culture</td>\n",
       "    </tr>\n",
       "    <tr>\n",
       "      <th>1999</th>\n",
       "      <td>Aspiring film-makers take note: a love triangl...</td>\n",
       "      <td>culture</td>\n",
       "    </tr>\n",
       "    <tr>\n",
       "      <th>2009</th>\n",
       "      <td>At the beginning of the pandemic Mae Martin’s ...</td>\n",
       "      <td>culture</td>\n",
       "    </tr>\n",
       "    <tr>\n",
       "      <th>2127</th>\n",
       "      <td>At the beginning of the pandemic Mae Martin’s ...</td>\n",
       "      <td>culture</td>\n",
       "    </tr>\n",
       "  </tbody>\n",
       "</table>\n",
       "</div>"
      ],
      "text/plain": [
       "                                                Content  Section\n",
       "2160  A question is posed in the group show Poet Sla...  culture\n",
       "1988  A question is posed in the group show Poet Sla...  culture\n",
       "2026  A stoush has erupted between the publisher of ...  culture\n",
       "2180  A stoush has erupted between the publisher of ...  culture\n",
       "2008  Alicia Keys, I have a bone to pick with you. F...  culture\n",
       "2136  Alicia Keys, I have a bone to pick with you. F...  culture\n",
       "2134  Aspiring film-makers take note: a love triangl...  culture\n",
       "1999  Aspiring film-makers take note: a love triangl...  culture\n",
       "2009  At the beginning of the pandemic Mae Martin’s ...  culture\n",
       "2127  At the beginning of the pandemic Mae Martin’s ...  culture"
      ]
     },
     "execution_count": 180,
     "metadata": {},
     "output_type": "execute_result"
    }
   ],
   "source": [
    "df[df.duplicated(keep=False)].sort_values(by=['Content']).head(10)"
   ]
  },
  {
   "cell_type": "code",
   "execution_count": 181,
   "metadata": {},
   "outputs": [
    {
     "data": {
      "text/plain": [
       "array(['culture'], dtype=object)"
      ]
     },
     "execution_count": 181,
     "metadata": {},
     "output_type": "execute_result"
    }
   ],
   "source": [
    "df[df.duplicated()]['Section'].unique()"
   ]
  },
  {
   "cell_type": "code",
   "execution_count": 182,
   "metadata": {},
   "outputs": [
    {
     "data": {
      "text/plain": [
       "(2711, 2)"
      ]
     },
     "execution_count": 182,
     "metadata": {},
     "output_type": "execute_result"
    }
   ],
   "source": [
    "df.drop_duplicates(inplace=True)\n",
    "df.shape"
   ]
  },
  {
   "cell_type": "markdown",
   "metadata": {},
   "source": [
    "The classes are roughly balanced, which implies our classification task is somewhat of simpler interpretation. Nonetheless we will use more thorough performance metrics than just accuracy."
   ]
  },
  {
   "cell_type": "code",
   "execution_count": 183,
   "metadata": {},
   "outputs": [
    {
     "data": {
      "image/png": "[encoded data removed]",
      "text/plain": [
       "<Figure size 432x288 with 1 Axes>"
      ]
     },
     "metadata": {
      "needs_background": "light"
     },
     "output_type": "display_data"
    }
   ],
   "source": [
    "plt.figure()\n",
    "ax = sns.histplot(data=df['Section'], shrink=.6)\n",
    "ax.bar_label(ax.containers[0]);"
   ]
  },
  {
   "cell_type": "markdown",
   "metadata": {},
   "source": [
    "Let's inspect the distribution of article lengths, both overall and per class. Knowing distributional information would be paramount when e.g. using article length as a DV in a regression model. But we won't do that here. However, although we won't be directly using it as an IV, information about article length (per class) could trickle down to our features and thus raise concerns about class balance (i.e. we are not interested here in a model which predicts class from article length, but rather learns from text). Luckily, the boxplot shows that length is not too unbalanced across classes. In addition, methods such as TF-IDF transformation automatically normalise the feature vectors prior to training."
   ]
  },
  {
   "cell_type": "code",
   "execution_count": 184,
   "metadata": {},
   "outputs": [
    {
     "data": {
      "image/png": "[encoded data removed]",
      "text/plain": [
       "<Figure size 1152x360 with 2 Axes>"
      ]
     },
     "metadata": {
      "needs_background": "light"
     },
     "output_type": "display_data"
    }
   ],
   "source": [
    "df['Length'] = df['Content'].str.len()\n",
    "\n",
    "fig, axs = plt.subplots(1, 2, figsize=(16,5));\n",
    "sns.histplot(df['Length'], kde=True, ax=axs[0]).set_title(\"Length distribution\");\n",
    "sns.boxplot(x=df['Section'], y=df['Length'], ax=axs[1]).set_title(\"Length by topic\");"
   ]
  },
  {
   "cell_type": "markdown",
   "metadata": {},
   "source": [
    "## Preprocessing text data"
   ]
  },
  {
   "cell_type": "code",
   "execution_count": 212,
   "metadata": {},
   "outputs": [
    {
     "data": {
      "text/plain": [
       "' A Victorian woman is facing almost 300 animal cruelty charges after wildlife officers allegedly found the carcasses of 140 protected native birds, including 128 wedge-tailed eagles, at her property. The office of the conservation regulator said police, wildlife officers, and officials from the agriculture department searched the woman’s property in Violet Town in August after a number of dead wedge-tailed eagles were found in the area. She has been charged with 291 breaches of the Wildlife Act 1975 and the Prevention of Cruelty to Animals Act 1986, including offences relating to poisoning the birds of prey. The maximum penalty for killing native birds or being in possession of them without a licence carries hefty fines or penalties of up to two years in jail. The woman will face court in Benalla next year. The chief conservation regulator, Kate Gavens, said her office took matters like this “very seriously”. “Wedge-tailed eagles are Victoria’s largest bird of prey and an important part of our environment,” Gavens said. “This investigation shows the conservation regulator’s commitment to combating wildlife crime and protecting the iconic wedge-tailed eagle.” Wedge-tailed eagles are seen as a pest by some farmers because of concerns they will prey on lambs, but the department of environment, land, water and planning says the birds very rarely take healthy lambs and never full-grown sheep. Wildlife experts have said killing the resident pair creates a territorial vacuum that encourages more birds to come.  To report wildlife crime contact CrimeStoppers on 1800 333 000.'"
      ]
     },
     "execution_count": 212,
     "metadata": {},
     "output_type": "execute_result"
    }
   ],
   "source": [
    "df.iloc[0,0]"
   ]
  },
  {
   "cell_type": "code",
   "execution_count": 213,
   "metadata": {},
   "outputs": [
    {
     "data": {
      "text/html": [
       "<div>\n",
       "<style scoped>\n",
       "    .dataframe tbody tr th:only-of-type {\n",
       "        vertical-align: middle;\n",
       "    }\n",
       "\n",
       "    .dataframe tbody tr th {\n",
       "        vertical-align: top;\n",
       "    }\n",
       "\n",
       "    .dataframe thead th {\n",
       "        text-align: right;\n",
       "    }\n",
       "</style>\n",
       "<table border=\"1\" class=\"dataframe\">\n",
       "  <thead>\n",
       "    <tr style=\"text-align: right;\">\n",
       "      <th></th>\n",
       "      <th>Content</th>\n",
       "      <th>Section</th>\n",
       "      <th>Length</th>\n",
       "      <th>Content_1</th>\n",
       "    </tr>\n",
       "  </thead>\n",
       "  <tbody>\n",
       "    <tr>\n",
       "      <th>0</th>\n",
       "      <td>A Victorian woman is facing almost 300 animal...</td>\n",
       "      <td>environment</td>\n",
       "      <td>1593</td>\n",
       "      <td>a victorian woman is facing almost 300 animal ...</td>\n",
       "    </tr>\n",
       "    <tr>\n",
       "      <th>1</th>\n",
       "      <td>Fish populations will continue to be over-expl...</td>\n",
       "      <td>environment</td>\n",
       "      <td>4199</td>\n",
       "      <td>fish populations will continue to be over-expl...</td>\n",
       "    </tr>\n",
       "    <tr>\n",
       "      <th>2</th>\n",
       "      <td>The Covid-19 vaccinations captured the world’s...</td>\n",
       "      <td>environment</td>\n",
       "      <td>23818</td>\n",
       "      <td>the covid-19 vaccinations captured the world’s...</td>\n",
       "    </tr>\n",
       "    <tr>\n",
       "      <th>3</th>\n",
       "      <td>New international rules to tackle the “wild we...</td>\n",
       "      <td>environment</td>\n",
       "      <td>5458</td>\n",
       "      <td>new international rules to tackle the “wild we...</td>\n",
       "    </tr>\n",
       "    <tr>\n",
       "      <th>4</th>\n",
       "      <td>The mother of Ella Kissi-Debrah has called on ...</td>\n",
       "      <td>environment</td>\n",
       "      <td>3198</td>\n",
       "      <td>the mother of ella kissi-debrah has called on ...</td>\n",
       "    </tr>\n",
       "  </tbody>\n",
       "</table>\n",
       "</div>"
      ],
      "text/plain": [
       "                                             Content      Section  Length  \\\n",
       "0   A Victorian woman is facing almost 300 animal...  environment    1593   \n",
       "1  Fish populations will continue to be over-expl...  environment    4199   \n",
       "2  The Covid-19 vaccinations captured the world’s...  environment   23818   \n",
       "3  New international rules to tackle the “wild we...  environment    5458   \n",
       "4  The mother of Ella Kissi-Debrah has called on ...  environment    3198   \n",
       "\n",
       "                                           Content_1  \n",
       "0  a victorian woman is facing almost 300 animal ...  \n",
       "1  fish populations will continue to be over-expl...  \n",
       "2  the covid-19 vaccinations captured the world’s...  \n",
       "3  new international rules to tackle the “wild we...  \n",
       "4  the mother of ella kissi-debrah has called on ...  "
      ]
     },
     "execution_count": 213,
     "metadata": {},
     "output_type": "execute_result"
    }
   ],
   "source": [
    "df['Content_1'] = df['Content'].str.lower()\n",
    "df['Content_1'] = df['Content_1'].str.strip()\n",
    "df.head()"
   ]
  },
  {
   "cell_type": "code",
   "execution_count": 205,
   "metadata": {},
   "outputs": [
    {
     "data": {
      "text/plain": [
       "<spacy.lang.en.English at 0x120cab2e0>"
      ]
     },
     "execution_count": 205,
     "metadata": {},
     "output_type": "execute_result"
    }
   ],
   "source": [
    "nlp = spacy.load(\"en_core_web_sm\")\n",
    "nlp"
   ]
  },
  {
   "cell_type": "markdown",
   "metadata": {},
   "source": [
    "### Write text processing function on single article"
   ]
  },
  {
   "cell_type": "markdown",
   "metadata": {},
   "source": [
    "Let us remove numbers, stop words, punctuation and lemmatise. Let us see the pipeline on a single news article."
   ]
  },
  {
   "cell_type": "code",
   "execution_count": 237,
   "metadata": {},
   "outputs": [
    {
     "data": {
      "text/plain": [
       "'a victorian woman is facing almost 300 animal cruelty charges after wildlife officers allegedly found the carcasses of 140 protected native birds, including 128 wedge-tailed eagles, at her property. the office of the conservation regulator said police, wildlife officers, and officials from the agriculture department searched the woman’s property in violet town in august after a number of dead wedge-tailed eagles were found in the area. she has been charged with 291 breaches of the wildlife act 1975 and the prevention of cruelty to animals act 1986, including offences relating to poisoning the birds of prey. the maximum penalty for killing native birds or being in possession of them without a licence carries hefty fines or penalties of up to two years in jail. the woman will face court in benalla next year. the chief conservation regulator, kate gavens, said her office took matters like this “very seriously”. “wedge-tailed eagles are victoria’s largest bird of prey and an important part of our environment,” gavens said. “this investigation shows the conservation regulator’s commitment to combating wildlife crime and protecting the iconic wedge-tailed eagle.” wedge-tailed eagles are seen as a pest by some farmers because of concerns they will prey on lambs, but the department of environment, land, water and planning says the birds very rarely take healthy lambs and never full-grown sheep. wildlife experts have said killing the resident pair creates a territorial vacuum that encourages more birds to come.  to report wildlife crime contact crimestoppers on 1800 333 000.'"
      ]
     },
     "execution_count": 237,
     "metadata": {},
     "output_type": "execute_result"
    }
   ],
   "source": [
    "txt0 = df.loc[0,'Content_1']\n",
    "txt0"
   ]
  },
  {
   "cell_type": "markdown",
   "metadata": {},
   "source": [
    "We can let Spacy do all the magic by simply calling its English model on our text."
   ]
  },
  {
   "cell_type": "code",
   "execution_count": 215,
   "metadata": {},
   "outputs": [],
   "source": [
    "doc = nlp(txt0)"
   ]
  },
  {
   "cell_type": "markdown",
   "metadata": {},
   "source": [
    "The resulting Doc object contains all sorts of useful information for us to exploit, such as a dependency structure, recognised named entities, part-of-speech (POS) tags, etc. In addition, spacy has already performed tokenisation for us; we can access some of the attributes of each token as follows:"
   ]
  },
  {
   "cell_type": "code",
   "execution_count": 216,
   "metadata": {},
   "outputs": [
    {
     "data": {
      "text/html": [
       "<div>\n",
       "<style scoped>\n",
       "    .dataframe tbody tr th:only-of-type {\n",
       "        vertical-align: middle;\n",
       "    }\n",
       "\n",
       "    .dataframe tbody tr th {\n",
       "        vertical-align: top;\n",
       "    }\n",
       "\n",
       "    .dataframe thead th {\n",
       "        text-align: right;\n",
       "    }\n",
       "</style>\n",
       "<table border=\"1\" class=\"dataframe\">\n",
       "  <thead>\n",
       "    <tr style=\"text-align: right;\">\n",
       "      <th></th>\n",
       "      <th>text</th>\n",
       "      <th>is_stop</th>\n",
       "      <th>is_punct</th>\n",
       "      <th>lemma</th>\n",
       "      <th>is_alpha</th>\n",
       "    </tr>\n",
       "  </thead>\n",
       "  <tbody>\n",
       "    <tr>\n",
       "      <th>0</th>\n",
       "      <td>a</td>\n",
       "      <td>True</td>\n",
       "      <td>False</td>\n",
       "      <td>a</td>\n",
       "      <td>True</td>\n",
       "    </tr>\n",
       "    <tr>\n",
       "      <th>1</th>\n",
       "      <td>victorian</td>\n",
       "      <td>False</td>\n",
       "      <td>False</td>\n",
       "      <td>victorian</td>\n",
       "      <td>True</td>\n",
       "    </tr>\n",
       "    <tr>\n",
       "      <th>2</th>\n",
       "      <td>woman</td>\n",
       "      <td>False</td>\n",
       "      <td>False</td>\n",
       "      <td>woman</td>\n",
       "      <td>True</td>\n",
       "    </tr>\n",
       "    <tr>\n",
       "      <th>3</th>\n",
       "      <td>is</td>\n",
       "      <td>True</td>\n",
       "      <td>False</td>\n",
       "      <td>be</td>\n",
       "      <td>True</td>\n",
       "    </tr>\n",
       "    <tr>\n",
       "      <th>4</th>\n",
       "      <td>facing</td>\n",
       "      <td>False</td>\n",
       "      <td>False</td>\n",
       "      <td>face</td>\n",
       "      <td>True</td>\n",
       "    </tr>\n",
       "    <tr>\n",
       "      <th>...</th>\n",
       "      <td>...</td>\n",
       "      <td>...</td>\n",
       "      <td>...</td>\n",
       "      <td>...</td>\n",
       "      <td>...</td>\n",
       "    </tr>\n",
       "    <tr>\n",
       "      <th>288</th>\n",
       "      <td>on</td>\n",
       "      <td>True</td>\n",
       "      <td>False</td>\n",
       "      <td>on</td>\n",
       "      <td>True</td>\n",
       "    </tr>\n",
       "    <tr>\n",
       "      <th>289</th>\n",
       "      <td>1800</td>\n",
       "      <td>False</td>\n",
       "      <td>False</td>\n",
       "      <td>1800</td>\n",
       "      <td>False</td>\n",
       "    </tr>\n",
       "    <tr>\n",
       "      <th>290</th>\n",
       "      <td>333</td>\n",
       "      <td>False</td>\n",
       "      <td>False</td>\n",
       "      <td>333</td>\n",
       "      <td>False</td>\n",
       "    </tr>\n",
       "    <tr>\n",
       "      <th>291</th>\n",
       "      <td>000</td>\n",
       "      <td>False</td>\n",
       "      <td>False</td>\n",
       "      <td>000</td>\n",
       "      <td>False</td>\n",
       "    </tr>\n",
       "    <tr>\n",
       "      <th>292</th>\n",
       "      <td>.</td>\n",
       "      <td>False</td>\n",
       "      <td>True</td>\n",
       "      <td>.</td>\n",
       "      <td>False</td>\n",
       "    </tr>\n",
       "  </tbody>\n",
       "</table>\n",
       "<p>293 rows × 5 columns</p>\n",
       "</div>"
      ],
      "text/plain": [
       "          text  is_stop  is_punct      lemma  is_alpha\n",
       "0            a     True     False          a      True\n",
       "1    victorian    False     False  victorian      True\n",
       "2        woman    False     False      woman      True\n",
       "3           is     True     False         be      True\n",
       "4       facing    False     False       face      True\n",
       "..         ...      ...       ...        ...       ...\n",
       "288         on     True     False         on      True\n",
       "289       1800    False     False       1800     False\n",
       "290        333    False     False        333     False\n",
       "291        000    False     False        000     False\n",
       "292          .    False      True          .     False\n",
       "\n",
       "[293 rows x 5 columns]"
      ]
     },
     "execution_count": 216,
     "metadata": {},
     "output_type": "execute_result"
    }
   ],
   "source": [
    "def extract_features(doc):\n",
    "    return [(tkn.text, tkn.is_stop, tkn.is_punct, tkn.lemma_, tkn.is_alpha) for tkn in doc]\n",
    "\n",
    "pd.DataFrame(data=extract_features(doc), columns=['text','is_stop','is_punct','lemma','is_alpha'])"
   ]
  },
  {
   "cell_type": "code",
   "execution_count": 217,
   "metadata": {},
   "outputs": [],
   "source": [
    "# nlp.Defaults.stop_words\n",
    "# nlp.Defaults.stop_words |= {\"my_new_stopword1\",\"my_new_stopword2\"}\n",
    "# nlp.Defaults.stop_words -= {\"my_old_stopword1\",\"my_old_stopword2\"}"
   ]
  },
  {
   "cell_type": "markdown",
   "metadata": {},
   "source": [
    "We can write a simple function to take care of the cleaning for us."
   ]
  },
  {
   "cell_type": "code",
   "execution_count": 220,
   "metadata": {},
   "outputs": [
    {
     "data": {
      "text/plain": [
       "'victorian woman face animal cruelty charge wildlife officer allegedly find carcass protect native bird include wedge tail eagle property office conservation regulator say police wildlife officer official agriculture department search woman property violet town august number dead wedge tail eagle find area charge breach wildlife act prevention cruelty animal act include offence relate poison bird prey maximum penalty kill native bird possession licence carry hefty fine penalty year jail woman face court benalla year chief conservation regulator kate gavens say office take matter like seriously wedge tail eagle victoria large bird prey important environment gavens say investigation show conservation regulator commitment combat wildlife crime protect iconic wedge tail eagle wedge tail eagle see pest farmer concern prey lamb department environment land water planning say bird rarely healthy lamb grown sheep wildlife expert say kill resident pair create territorial vacuum encourage bird come report wildlife crime contact crimestopper'"
      ]
     },
     "execution_count": 220,
     "metadata": {},
     "output_type": "execute_result"
    }
   ],
   "source": [
    "def keep_token(t):\n",
    "    \"\"\"Decide whether to keep a token\"\"\"\n",
    "    return (t.is_alpha and not (t.is_space or t.is_punct or t.is_stop))\n",
    "\n",
    "def lemmatised_string(doc):\n",
    "    \"\"\"Lemmatise remaining tokens\"\"\"\n",
    "    return \" \".join(t.lemma_ for t in doc if keep_token(t))\n",
    "\n",
    "txt0_cleaned = lemmatised_string(doc)\n",
    "txt0_cleaned"
   ]
  },
  {
   "cell_type": "markdown",
   "metadata": {},
   "source": [
    "### Apply to all articles"
   ]
  },
  {
   "cell_type": "markdown",
   "metadata": {},
   "source": [
    "We"
   ]
  },
  {
   "cell_type": "code",
   "execution_count": 219,
   "metadata": {},
   "outputs": [],
   "source": [
    "docs = list(nlp.pipe(df['Content_1']))  # explain nlp.pipe"
   ]
  },
  {
   "cell_type": "code",
   "execution_count": 221,
   "metadata": {},
   "outputs": [],
   "source": [
    "df['Content_parsed'] = [lemmatised_string(doc) for doc in docs]"
   ]
  },
  {
   "cell_type": "code",
   "execution_count": 228,
   "metadata": {},
   "outputs": [
    {
     "data": {
      "text/plain": [
       "'a victorian woman is facing almost 300 animal cruelty charges after wildlife officers allegedly found the carcasses of 140 protected native birds, including 128 wedge-tailed eagles, at her property. the office of the conservation regulator said police, wildlife officers, and officials from the agriculture department searched the woman’s property in violet town in august after a number of dead wedge-tailed eagles were found in the area. she has been charged with 291 breaches of the wildlife act 1975 and the prevention of cruelty to animals act 1986, including offences relating to poisoning the birds of prey. the maximum penalty for killing native birds or being in possession of them without a licence carries hefty fines or penalties of up to two years in jail. the woman will face court in benalla next year. the chief conservation regulator, kate gavens, said her office took matters like this “very seriously”. “wedge-tailed eagles are victoria’s largest bird of prey and an important part of our environment,” gavens said. “this investigation shows the conservation regulator’s commitment to combating wildlife crime and protecting the iconic wedge-tailed eagle.” wedge-tailed eagles are seen as a pest by some farmers because of concerns they will prey on lambs, but the department of environment, land, water and planning says the birds very rarely take healthy lambs and never full-grown sheep. wildlife experts have said killing the resident pair creates a territorial vacuum that encourages more birds to come.  to report wildlife crime contact crimestoppers on 1800 333 000.'"
      ]
     },
     "execution_count": 228,
     "metadata": {},
     "output_type": "execute_result"
    }
   ],
   "source": [
    "pre_spacy = df.loc[0,'Content_1']\n",
    "pre_spacy"
   ]
  },
  {
   "cell_type": "code",
   "execution_count": 229,
   "metadata": {},
   "outputs": [
    {
     "data": {
      "text/plain": [
       "'victorian woman face animal cruelty charge wildlife officer allegedly find carcass protect native bird include wedge tail eagle property office conservation regulator say police wildlife officer official agriculture department search woman property violet town august number dead wedge tail eagle find area charge breach wildlife act prevention cruelty animal act include offence relate poison bird prey maximum penalty kill native bird possession licence carry hefty fine penalty year jail woman face court benalla year chief conservation regulator kate gavens say office take matter like seriously wedge tail eagle victoria large bird prey important environment gavens say investigation show conservation regulator commitment combat wildlife crime protect iconic wedge tail eagle wedge tail eagle see pest farmer concern prey lamb department environment land water planning say bird rarely healthy lamb grown sheep wildlife expert say kill resident pair create territorial vacuum encourage bird come report wildlife crime contact crimestopper'"
      ]
     },
     "execution_count": 229,
     "metadata": {},
     "output_type": "execute_result"
    }
   ],
   "source": [
    "post_spacy = df.loc[0,'Content_parsed']\n",
    "post_spacy"
   ]
  },
  {
   "cell_type": "code",
   "execution_count": 231,
   "metadata": {},
   "outputs": [
    {
     "name": "stdout",
     "output_type": "stream",
     "text": [
      "We went from 1592 to 1044 tokens for this article.\n"
     ]
    }
   ],
   "source": [
    "print(f\"We went from {len(pre_spacy)} to {len(post_spacy)} tokens for this article.\")"
   ]
  },
  {
   "cell_type": "markdown",
   "metadata": {},
   "source": [
    "## Train-test split"
   ]
  },
  {
   "cell_type": "code",
   "execution_count": null,
   "metadata": {},
   "outputs": [],
   "source": []
  },
  {
   "cell_type": "markdown",
   "metadata": {},
   "source": [
    "## Numericalisation"
   ]
  },
  {
   "cell_type": "markdown",
   "metadata": {},
   "source": [
    "Spacy automatically computes word embedding vectors for each token, but we will instead create TF-IDF vectors for our classifier."
   ]
  }
 ],
 "metadata": {
  "kernelspec": {
   "display_name": "Python 3 (ipykernel)",
   "language": "python",
   "name": "python3"
  },
  "language_info": {
   "codemirror_mode": {
    "name": "ipython",
    "version": 3
   },
   "file_extension": ".py",
   "mimetype": "text/x-python",
   "name": "python",
   "nbconvert_exporter": "python",
   "pygments_lexer": "ipython3",
   "version": "3.9.7"
  }
 },
 "nbformat": 4,
 "nbformat_minor": 2
}
