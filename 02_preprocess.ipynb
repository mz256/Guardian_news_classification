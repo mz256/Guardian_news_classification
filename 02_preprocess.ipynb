{
 "cells": [
  {
   "cell_type": "markdown",
   "metadata": {},
   "source": [
    "# EDA and preprocessing"
   ]
  },
  {
   "cell_type": "code",
   "execution_count": 1,
   "metadata": {},
   "outputs": [],
   "source": [
    "import pandas as pd\n",
    "import matplotlib.pyplot as plt\n",
    "import seaborn as sns\n",
    "import spacy\n",
    "\n",
    "DATA_PATH = \"./data\"\n",
    "sections = ['environment', 'business', 'film', 'culture', 'education']"
   ]
  },
  {
   "cell_type": "code",
   "execution_count": 2,
   "metadata": {},
   "outputs": [],
   "source": [
    "dfs = [pd.read_csv(f\"{DATA_PATH}/{section}_news.csv\") for section in sections]\n",
    "df = pd.concat(dfs)"
   ]
  },
  {
   "cell_type": "markdown",
   "metadata": {},
   "source": [
    "## Exploratory data analysis"
   ]
  },
  {
   "cell_type": "code",
   "execution_count": 3,
   "metadata": {},
   "outputs": [
    {
     "data": {
      "text/html": [
       "<div>\n",
       "<style scoped>\n",
       "    .dataframe tbody tr th:only-of-type {\n",
       "        vertical-align: middle;\n",
       "    }\n",
       "\n",
       "    .dataframe tbody tr th {\n",
       "        vertical-align: top;\n",
       "    }\n",
       "\n",
       "    .dataframe thead th {\n",
       "        text-align: right;\n",
       "    }\n",
       "</style>\n",
       "<table border=\"1\" class=\"dataframe\">\n",
       "  <thead>\n",
       "    <tr style=\"text-align: right;\">\n",
       "      <th></th>\n",
       "      <th>Content</th>\n",
       "      <th>Section</th>\n",
       "    </tr>\n",
       "  </thead>\n",
       "  <tbody>\n",
       "    <tr>\n",
       "      <th>0</th>\n",
       "      <td>A Victorian woman is facing almost 300 animal...</td>\n",
       "      <td>environment</td>\n",
       "    </tr>\n",
       "    <tr>\n",
       "      <th>1</th>\n",
       "      <td>Fish populations will continue to be over-expl...</td>\n",
       "      <td>environment</td>\n",
       "    </tr>\n",
       "    <tr>\n",
       "      <th>2</th>\n",
       "      <td>The Covid-19 vaccinations captured the world’s...</td>\n",
       "      <td>environment</td>\n",
       "    </tr>\n",
       "    <tr>\n",
       "      <th>3</th>\n",
       "      <td>New international rules to tackle the “wild we...</td>\n",
       "      <td>environment</td>\n",
       "    </tr>\n",
       "    <tr>\n",
       "      <th>4</th>\n",
       "      <td>The mother of Ella Kissi-Debrah has called on ...</td>\n",
       "      <td>environment</td>\n",
       "    </tr>\n",
       "    <tr>\n",
       "      <th>...</th>\n",
       "      <td>...</td>\n",
       "      <td>...</td>\n",
       "    </tr>\n",
       "    <tr>\n",
       "      <th>2749</th>\n",
       "      <td>More than 250 former pupils at Westminster Sch...</td>\n",
       "      <td>education</td>\n",
       "    </tr>\n",
       "    <tr>\n",
       "      <th>2750</th>\n",
       "      <td>The chief inspector of schools, Amanda Spielma...</td>\n",
       "      <td>education</td>\n",
       "    </tr>\n",
       "    <tr>\n",
       "      <th>2751</th>\n",
       "      <td>Teaching unions and school leaders are to hold...</td>\n",
       "      <td>education</td>\n",
       "    </tr>\n",
       "    <tr>\n",
       "      <th>2752</th>\n",
       "      <td>Schools will prioritise pupils’ emotional and ...</td>\n",
       "      <td>education</td>\n",
       "    </tr>\n",
       "    <tr>\n",
       "      <th>2753</th>\n",
       "      <td>My wife, Enid Hankins, who has died aged 70 of...</td>\n",
       "      <td>education</td>\n",
       "    </tr>\n",
       "  </tbody>\n",
       "</table>\n",
       "<p>2754 rows × 2 columns</p>\n",
       "</div>"
      ],
      "text/plain": [
       "                                                Content      Section\n",
       "0      A Victorian woman is facing almost 300 animal...  environment\n",
       "1     Fish populations will continue to be over-expl...  environment\n",
       "2     The Covid-19 vaccinations captured the world’s...  environment\n",
       "3     New international rules to tackle the “wild we...  environment\n",
       "4     The mother of Ella Kissi-Debrah has called on ...  environment\n",
       "...                                                 ...          ...\n",
       "2749  More than 250 former pupils at Westminster Sch...    education\n",
       "2750  The chief inspector of schools, Amanda Spielma...    education\n",
       "2751  Teaching unions and school leaders are to hold...    education\n",
       "2752  Schools will prioritise pupils’ emotional and ...    education\n",
       "2753  My wife, Enid Hankins, who has died aged 70 of...    education\n",
       "\n",
       "[2754 rows x 2 columns]"
      ]
     },
     "execution_count": 3,
     "metadata": {},
     "output_type": "execute_result"
    }
   ],
   "source": [
    "df = df.reset_index(drop=True)\n",
    "df"
   ]
  },
  {
   "cell_type": "code",
   "execution_count": 4,
   "metadata": {},
   "outputs": [
    {
     "data": {
      "text/html": [
       "<div>\n",
       "<style scoped>\n",
       "    .dataframe tbody tr th:only-of-type {\n",
       "        vertical-align: middle;\n",
       "    }\n",
       "\n",
       "    .dataframe tbody tr th {\n",
       "        vertical-align: top;\n",
       "    }\n",
       "\n",
       "    .dataframe thead th {\n",
       "        text-align: right;\n",
       "    }\n",
       "</style>\n",
       "<table border=\"1\" class=\"dataframe\">\n",
       "  <thead>\n",
       "    <tr style=\"text-align: right;\">\n",
       "      <th></th>\n",
       "      <th>Content</th>\n",
       "      <th>Section</th>\n",
       "    </tr>\n",
       "  </thead>\n",
       "  <tbody>\n",
       "    <tr>\n",
       "      <th>count</th>\n",
       "      <td>2754</td>\n",
       "      <td>2754</td>\n",
       "    </tr>\n",
       "    <tr>\n",
       "      <th>unique</th>\n",
       "      <td>2711</td>\n",
       "      <td>5</td>\n",
       "    </tr>\n",
       "    <tr>\n",
       "      <th>top</th>\n",
       "      <td>In the first episode of Netflix’s latest hit s...</td>\n",
       "      <td>film</td>\n",
       "    </tr>\n",
       "    <tr>\n",
       "      <th>freq</th>\n",
       "      <td>2</td>\n",
       "      <td>599</td>\n",
       "    </tr>\n",
       "  </tbody>\n",
       "</table>\n",
       "</div>"
      ],
      "text/plain": [
       "                                                  Content Section\n",
       "count                                                2754    2754\n",
       "unique                                               2711       5\n",
       "top     In the first episode of Netflix’s latest hit s...    film\n",
       "freq                                                    2     599"
      ]
     },
     "execution_count": 4,
     "metadata": {},
     "output_type": "execute_result"
    }
   ],
   "source": [
    "df.describe()"
   ]
  },
  {
   "cell_type": "code",
   "execution_count": 5,
   "metadata": {},
   "outputs": [
    {
     "data": {
      "text/html": [
       "<div>\n",
       "<style scoped>\n",
       "    .dataframe tbody tr th:only-of-type {\n",
       "        vertical-align: middle;\n",
       "    }\n",
       "\n",
       "    .dataframe tbody tr th {\n",
       "        vertical-align: top;\n",
       "    }\n",
       "\n",
       "    .dataframe thead th {\n",
       "        text-align: right;\n",
       "    }\n",
       "</style>\n",
       "<table border=\"1\" class=\"dataframe\">\n",
       "  <thead>\n",
       "    <tr style=\"text-align: right;\">\n",
       "      <th></th>\n",
       "      <th>Content</th>\n",
       "      <th>Section</th>\n",
       "    </tr>\n",
       "  </thead>\n",
       "  <tbody>\n",
       "    <tr>\n",
       "      <th>2160</th>\n",
       "      <td>A question is posed in the group show Poet Sla...</td>\n",
       "      <td>culture</td>\n",
       "    </tr>\n",
       "    <tr>\n",
       "      <th>1988</th>\n",
       "      <td>A question is posed in the group show Poet Sla...</td>\n",
       "      <td>culture</td>\n",
       "    </tr>\n",
       "    <tr>\n",
       "      <th>2026</th>\n",
       "      <td>A stoush has erupted between the publisher of ...</td>\n",
       "      <td>culture</td>\n",
       "    </tr>\n",
       "    <tr>\n",
       "      <th>2180</th>\n",
       "      <td>A stoush has erupted between the publisher of ...</td>\n",
       "      <td>culture</td>\n",
       "    </tr>\n",
       "    <tr>\n",
       "      <th>2008</th>\n",
       "      <td>Alicia Keys, I have a bone to pick with you. F...</td>\n",
       "      <td>culture</td>\n",
       "    </tr>\n",
       "    <tr>\n",
       "      <th>2136</th>\n",
       "      <td>Alicia Keys, I have a bone to pick with you. F...</td>\n",
       "      <td>culture</td>\n",
       "    </tr>\n",
       "    <tr>\n",
       "      <th>2134</th>\n",
       "      <td>Aspiring film-makers take note: a love triangl...</td>\n",
       "      <td>culture</td>\n",
       "    </tr>\n",
       "    <tr>\n",
       "      <th>1999</th>\n",
       "      <td>Aspiring film-makers take note: a love triangl...</td>\n",
       "      <td>culture</td>\n",
       "    </tr>\n",
       "    <tr>\n",
       "      <th>2009</th>\n",
       "      <td>At the beginning of the pandemic Mae Martin’s ...</td>\n",
       "      <td>culture</td>\n",
       "    </tr>\n",
       "    <tr>\n",
       "      <th>2127</th>\n",
       "      <td>At the beginning of the pandemic Mae Martin’s ...</td>\n",
       "      <td>culture</td>\n",
       "    </tr>\n",
       "  </tbody>\n",
       "</table>\n",
       "</div>"
      ],
      "text/plain": [
       "                                                Content  Section\n",
       "2160  A question is posed in the group show Poet Sla...  culture\n",
       "1988  A question is posed in the group show Poet Sla...  culture\n",
       "2026  A stoush has erupted between the publisher of ...  culture\n",
       "2180  A stoush has erupted between the publisher of ...  culture\n",
       "2008  Alicia Keys, I have a bone to pick with you. F...  culture\n",
       "2136  Alicia Keys, I have a bone to pick with you. F...  culture\n",
       "2134  Aspiring film-makers take note: a love triangl...  culture\n",
       "1999  Aspiring film-makers take note: a love triangl...  culture\n",
       "2009  At the beginning of the pandemic Mae Martin’s ...  culture\n",
       "2127  At the beginning of the pandemic Mae Martin’s ...  culture"
      ]
     },
     "execution_count": 5,
     "metadata": {},
     "output_type": "execute_result"
    }
   ],
   "source": [
    "df[df.duplicated(keep=False)].sort_values(by=['Content']).head(10)"
   ]
  },
  {
   "cell_type": "code",
   "execution_count": 6,
   "metadata": {},
   "outputs": [
    {
     "data": {
      "text/plain": [
       "array(['culture'], dtype=object)"
      ]
     },
     "execution_count": 6,
     "metadata": {},
     "output_type": "execute_result"
    }
   ],
   "source": [
    "df[df.duplicated()]['Section'].unique()"
   ]
  },
  {
   "cell_type": "code",
   "execution_count": 7,
   "metadata": {},
   "outputs": [
    {
     "data": {
      "text/plain": [
       "(2711, 2)"
      ]
     },
     "execution_count": 7,
     "metadata": {},
     "output_type": "execute_result"
    }
   ],
   "source": [
    "df.drop_duplicates(inplace=True)\n",
    "df.shape"
   ]
  },
  {
   "cell_type": "code",
   "execution_count": 8,
   "metadata": {},
   "outputs": [
    {
     "data": {
      "image/png": "[encoded data removed]",
      "text/plain": [
       "<Figure size 432x288 with 1 Axes>"
      ]
     },
     "metadata": {
      "needs_background": "light"
     },
     "output_type": "display_data"
    }
   ],
   "source": [
    "plt.figure()\n",
    "ax = sns.histplot(data=df['Section'], shrink=.6)"
   ]
  },
  {
   "cell_type": "code",
   "execution_count": 9,
   "metadata": {},
   "outputs": [
    {
     "data": {
      "image/png": "[encoded data removed]",
      "text/plain": [
       "<Figure size 1152x360 with 2 Axes>"
      ]
     },
     "metadata": {
      "needs_background": "light"
     },
     "output_type": "display_data"
    }
   ],
   "source": [
    "df['Length'] = df['Content'].str.len()\n",
    "\n",
    "fig, axs = plt.subplots(1, 2, figsize=(16,5));\n",
    "sns.histplot(df['Length'], kde=True, ax=axs[0]).set_title(\"Length distribution\");\n",
    "sns.boxplot(x=df['Section'], y=df['Length'], ax=axs[1]).set_title(\"Length by topic\");"
   ]
  },
  {
   "cell_type": "markdown",
   "metadata": {},
   "source": [
    "## Preprocessing text data"
   ]
  },
  {
   "cell_type": "code",
   "execution_count": 28,
   "metadata": {},
   "outputs": [
    {
     "data": {
      "text/plain": [
       "' A Victorian woman is facing almost 300 animal cruelty charges after wildlife officers allegedly found the carcasses of 140 protected native birds, including 128 wedge-tailed eagles, at her property. The office of the conservation regulator said police, wildlife officers, and officials from the agriculture department searched the woman’s property in Violet Town in August after a number of dead wedge-tailed eagles were found in the area. She has been charged with 291 breaches of the Wildlife Act 1975 and the Prevention of Cruelty to Animals Act 1986, including offences relating to poisoning the birds of prey. The maximum penalty for killing native birds or being in possession of them without a licence carries hefty fines or penalties of up to two years in jail. The woman will face court in Benalla next year. The chief conservation regulator, Kate Gavens, said her office took matters like this “very seriously”. “Wedge-tailed eagles are Victoria’s largest bird of prey and an important part of our environment,” Gavens said. “This investigation shows the conservation regulator’s commitment to combating wildlife crime and protecting the iconic wedge-tailed eagle.” Wedge-tailed eagles are seen as a pest by some farmers because of concerns they will prey on lambs, but the department of environment, land, water and planning says the birds very rarely take healthy lambs and never full-grown sheep. Wildlife experts have said killing the resident pair creates a territorial vacuum that encourages more birds to come.  To report wildlife crime contact CrimeStoppers on 1800 333 000.'"
      ]
     },
     "execution_count": 28,
     "metadata": {},
     "output_type": "execute_result"
    }
   ],
   "source": [
    "df.iloc[0,0]"
   ]
  },
  {
   "cell_type": "code",
   "execution_count": 30,
   "metadata": {},
   "outputs": [
    {
     "data": {
      "text/html": [
       "<div>\n",
       "<style scoped>\n",
       "    .dataframe tbody tr th:only-of-type {\n",
       "        vertical-align: middle;\n",
       "    }\n",
       "\n",
       "    .dataframe tbody tr th {\n",
       "        vertical-align: top;\n",
       "    }\n",
       "\n",
       "    .dataframe thead th {\n",
       "        text-align: right;\n",
       "    }\n",
       "</style>\n",
       "<table border=\"1\" class=\"dataframe\">\n",
       "  <thead>\n",
       "    <tr style=\"text-align: right;\">\n",
       "      <th></th>\n",
       "      <th>Content</th>\n",
       "      <th>Section</th>\n",
       "      <th>Length</th>\n",
       "      <th>Content_1</th>\n",
       "    </tr>\n",
       "  </thead>\n",
       "  <tbody>\n",
       "    <tr>\n",
       "      <th>0</th>\n",
       "      <td>A Victorian woman is facing almost 300 animal...</td>\n",
       "      <td>environment</td>\n",
       "      <td>1593</td>\n",
       "      <td>a victorian woman is facing almost 300 animal ...</td>\n",
       "    </tr>\n",
       "    <tr>\n",
       "      <th>1</th>\n",
       "      <td>Fish populations will continue to be over-expl...</td>\n",
       "      <td>environment</td>\n",
       "      <td>4199</td>\n",
       "      <td>fish populations will continue to be over-expl...</td>\n",
       "    </tr>\n",
       "    <tr>\n",
       "      <th>2</th>\n",
       "      <td>The Covid-19 vaccinations captured the world’s...</td>\n",
       "      <td>environment</td>\n",
       "      <td>23818</td>\n",
       "      <td>the covid-19 vaccinations captured the world’s...</td>\n",
       "    </tr>\n",
       "    <tr>\n",
       "      <th>3</th>\n",
       "      <td>New international rules to tackle the “wild we...</td>\n",
       "      <td>environment</td>\n",
       "      <td>5458</td>\n",
       "      <td>new international rules to tackle the “wild we...</td>\n",
       "    </tr>\n",
       "    <tr>\n",
       "      <th>4</th>\n",
       "      <td>The mother of Ella Kissi-Debrah has called on ...</td>\n",
       "      <td>environment</td>\n",
       "      <td>3198</td>\n",
       "      <td>the mother of ella kissi-debrah has called on ...</td>\n",
       "    </tr>\n",
       "  </tbody>\n",
       "</table>\n",
       "</div>"
      ],
      "text/plain": [
       "                                             Content      Section  Length  \\\n",
       "0   A Victorian woman is facing almost 300 animal...  environment    1593   \n",
       "1  Fish populations will continue to be over-expl...  environment    4199   \n",
       "2  The Covid-19 vaccinations captured the world’s...  environment   23818   \n",
       "3  New international rules to tackle the “wild we...  environment    5458   \n",
       "4  The mother of Ella Kissi-Debrah has called on ...  environment    3198   \n",
       "\n",
       "                                           Content_1  \n",
       "0  a victorian woman is facing almost 300 animal ...  \n",
       "1  fish populations will continue to be over-expl...  \n",
       "2  the covid-19 vaccinations captured the world’s...  \n",
       "3  new international rules to tackle the “wild we...  \n",
       "4  the mother of ella kissi-debrah has called on ...  "
      ]
     },
     "execution_count": 30,
     "metadata": {},
     "output_type": "execute_result"
    }
   ],
   "source": [
    "df['Content_1'] = df['Content'].str.lower()\n",
    "df['Content_1'] = df['Content_1'].str.strip()\n",
    "df.head()"
   ]
  },
  {
   "cell_type": "code",
   "execution_count": 12,
   "metadata": {},
   "outputs": [
    {
     "data": {
      "text/plain": [
       "<spacy.lang.en.English at 0x1297dc190>"
      ]
     },
     "execution_count": 12,
     "metadata": {},
     "output_type": "execute_result"
    }
   ],
   "source": [
    "nlp = spacy.load(\"en_core_web_sm\")\n",
    "nlp"
   ]
  },
  {
   "cell_type": "code",
   "execution_count": 31,
   "metadata": {},
   "outputs": [
    {
     "data": {
      "text/plain": [
       "'a victorian woman is facing almost 300 animal cruelty charges after wildlife officers allegedly found the carcasses of 140 protected native birds, including 128 wedge-tailed eagles, at her property. the office of the conservation regulator said police, wildlife officers, and officials from the agriculture department searched the woman’s property in violet town in august after a number of dead wedge-tailed eagles were found in the area. she has been charged with 291 breaches of the wildlife act 1975 and the prevention of cruelty to animals act 1986, including offences relating to poisoning the birds of prey. the maximum penalty for killing native birds or being in possession of them without a licence carries hefty fines or penalties of up to two years in jail. the woman will face court in benalla next year. the chief conservation regulator, kate gavens, said her office took matters like this “very seriously”. “wedge-tailed eagles are victoria’s largest bird of prey and an important part of our environment,” gavens said. “this investigation shows the conservation regulator’s commitment to combating wildlife crime and protecting the iconic wedge-tailed eagle.” wedge-tailed eagles are seen as a pest by some farmers because of concerns they will prey on lambs, but the department of environment, land, water and planning says the birds very rarely take healthy lambs and never full-grown sheep. wildlife experts have said killing the resident pair creates a territorial vacuum that encourages more birds to come.  to report wildlife crime contact crimestoppers on 1800 333 000.'"
      ]
     },
     "execution_count": 31,
     "metadata": {},
     "output_type": "execute_result"
    }
   ],
   "source": [
    "txt0 = df['Content_1'].iloc[0]\n",
    "txt0"
   ]
  },
  {
   "cell_type": "code",
   "execution_count": 32,
   "metadata": {},
   "outputs": [
    {
     "name": "stdout",
     "output_type": "stream",
     "text": [
      "a -- True -- False\n",
      "victorian -- False -- False\n",
      "woman -- False -- False\n",
      "is -- True -- False\n",
      "facing -- False -- False\n",
      "almost -- True -- False\n",
      "300 -- False -- False\n",
      "animal -- False -- False\n",
      "cruelty -- False -- False\n",
      "charges -- False -- False\n",
      "after -- True -- False\n",
      "wildlife -- False -- False\n",
      "officers -- False -- False\n",
      "allegedly -- False -- False\n",
      "found -- False -- False\n",
      "the -- True -- False\n",
      "carcasses -- False -- False\n",
      "of -- True -- False\n",
      "140 -- False -- False\n",
      "protected -- False -- False\n",
      "native -- False -- False\n",
      "birds -- False -- False\n",
      ", -- False -- True\n",
      "including -- False -- False\n",
      "128 -- False -- False\n",
      "wedge -- False -- False\n",
      "- -- False -- True\n",
      "tailed -- False -- False\n",
      "eagles -- False -- False\n",
      ", -- False -- True\n",
      "at -- True -- False\n",
      "her -- True -- False\n",
      "property -- False -- False\n",
      ". -- False -- True\n",
      "the -- True -- False\n",
      "office -- False -- False\n",
      "of -- True -- False\n",
      "the -- True -- False\n",
      "conservation -- False -- False\n",
      "regulator -- False -- False\n",
      "said -- False -- False\n",
      "police -- False -- False\n",
      ", -- False -- True\n",
      "wildlife -- False -- False\n",
      "officers -- False -- False\n",
      ", -- False -- True\n",
      "and -- True -- False\n",
      "officials -- False -- False\n",
      "from -- True -- False\n",
      "the -- True -- False\n",
      "agriculture -- False -- False\n",
      "department -- False -- False\n",
      "searched -- False -- False\n",
      "the -- True -- False\n",
      "woman -- False -- False\n",
      "’s -- True -- False\n",
      "property -- False -- False\n",
      "in -- True -- False\n",
      "violet -- False -- False\n",
      "town -- False -- False\n",
      "in -- True -- False\n",
      "august -- False -- False\n",
      "after -- True -- False\n",
      "a -- True -- False\n",
      "number -- False -- False\n",
      "of -- True -- False\n",
      "dead -- False -- False\n",
      "wedge -- False -- False\n",
      "- -- False -- True\n",
      "tailed -- False -- False\n",
      "eagles -- False -- False\n",
      "were -- True -- False\n",
      "found -- False -- False\n",
      "in -- True -- False\n",
      "the -- True -- False\n",
      "area -- False -- False\n",
      ". -- False -- True\n",
      "she -- True -- False\n",
      "has -- True -- False\n",
      "been -- True -- False\n",
      "charged -- False -- False\n",
      "with -- True -- False\n",
      "291 -- False -- False\n",
      "breaches -- False -- False\n",
      "of -- True -- False\n",
      "the -- True -- False\n",
      "wildlife -- False -- False\n",
      "act -- False -- False\n",
      "1975 -- False -- False\n",
      "and -- True -- False\n",
      "the -- True -- False\n",
      "prevention -- False -- False\n",
      "of -- True -- False\n",
      "cruelty -- False -- False\n",
      "to -- True -- False\n",
      "animals -- False -- False\n",
      "act -- False -- False\n",
      "1986 -- False -- False\n",
      ", -- False -- True\n",
      "including -- False -- False\n",
      "offences -- False -- False\n",
      "relating -- False -- False\n",
      "to -- True -- False\n",
      "poisoning -- False -- False\n",
      "the -- True -- False\n",
      "birds -- False -- False\n",
      "of -- True -- False\n",
      "prey -- False -- False\n",
      ". -- False -- True\n",
      "the -- True -- False\n",
      "maximum -- False -- False\n",
      "penalty -- False -- False\n",
      "for -- True -- False\n",
      "killing -- False -- False\n",
      "native -- False -- False\n",
      "birds -- False -- False\n",
      "or -- True -- False\n",
      "being -- True -- False\n",
      "in -- True -- False\n",
      "possession -- False -- False\n",
      "of -- True -- False\n",
      "them -- True -- False\n",
      "without -- True -- False\n",
      "a -- True -- False\n",
      "licence -- False -- False\n",
      "carries -- False -- False\n",
      "hefty -- False -- False\n",
      "fines -- False -- False\n",
      "or -- True -- False\n",
      "penalties -- False -- False\n",
      "of -- True -- False\n",
      "up -- True -- False\n",
      "to -- True -- False\n",
      "two -- True -- False\n",
      "years -- False -- False\n",
      "in -- True -- False\n",
      "jail -- False -- False\n",
      ". -- False -- True\n",
      "the -- True -- False\n",
      "woman -- False -- False\n",
      "will -- True -- False\n",
      "face -- False -- False\n",
      "court -- False -- False\n",
      "in -- True -- False\n",
      "benalla -- False -- False\n",
      "next -- True -- False\n",
      "year -- False -- False\n",
      ". -- False -- True\n",
      "the -- True -- False\n",
      "chief -- False -- False\n",
      "conservation -- False -- False\n",
      "regulator -- False -- False\n",
      ", -- False -- True\n",
      "kate -- False -- False\n",
      "gavens -- False -- False\n",
      ", -- False -- True\n",
      "said -- False -- False\n",
      "her -- True -- False\n",
      "office -- False -- False\n",
      "took -- False -- False\n",
      "matters -- False -- False\n",
      "like -- False -- False\n",
      "this -- True -- False\n",
      "“ -- False -- True\n",
      "very -- True -- False\n",
      "seriously -- False -- False\n",
      "” -- False -- True\n",
      ". -- False -- True\n",
      "“ -- False -- True\n",
      "wedge -- False -- False\n",
      "- -- False -- True\n",
      "tailed -- False -- False\n",
      "eagles -- False -- False\n",
      "are -- True -- False\n",
      "victoria -- False -- False\n",
      "’s -- True -- False\n",
      "largest -- False -- False\n",
      "bird -- False -- False\n",
      "of -- True -- False\n",
      "prey -- False -- False\n",
      "and -- True -- False\n",
      "an -- True -- False\n",
      "important -- False -- False\n",
      "part -- True -- False\n",
      "of -- True -- False\n",
      "our -- True -- False\n",
      "environment -- False -- False\n",
      ", -- False -- True\n",
      "” -- False -- True\n",
      "gavens -- False -- False\n",
      "said -- False -- False\n",
      ". -- False -- True\n",
      "“ -- False -- True\n",
      "this -- True -- False\n",
      "investigation -- False -- False\n",
      "shows -- False -- False\n",
      "the -- True -- False\n",
      "conservation -- False -- False\n",
      "regulator -- False -- False\n",
      "’s -- True -- False\n",
      "commitment -- False -- False\n",
      "to -- True -- False\n",
      "combating -- False -- False\n",
      "wildlife -- False -- False\n",
      "crime -- False -- False\n",
      "and -- True -- False\n",
      "protecting -- False -- False\n",
      "the -- True -- False\n",
      "iconic -- False -- False\n",
      "wedge -- False -- False\n",
      "- -- False -- True\n",
      "tailed -- False -- False\n",
      "eagle -- False -- False\n",
      ". -- False -- True\n",
      "” -- False -- True\n",
      "wedge -- False -- False\n",
      "- -- False -- True\n",
      "tailed -- False -- False\n",
      "eagles -- False -- False\n",
      "are -- True -- False\n",
      "seen -- False -- False\n",
      "as -- True -- False\n",
      "a -- True -- False\n",
      "pest -- False -- False\n",
      "by -- True -- False\n",
      "some -- True -- False\n",
      "farmers -- False -- False\n",
      "because -- True -- False\n",
      "of -- True -- False\n",
      "concerns -- False -- False\n",
      "they -- True -- False\n",
      "will -- True -- False\n",
      "prey -- False -- False\n",
      "on -- True -- False\n",
      "lambs -- False -- False\n",
      ", -- False -- True\n",
      "but -- True -- False\n",
      "the -- True -- False\n",
      "department -- False -- False\n",
      "of -- True -- False\n",
      "environment -- False -- False\n",
      ", -- False -- True\n",
      "land -- False -- False\n",
      ", -- False -- True\n",
      "water -- False -- False\n",
      "and -- True -- False\n",
      "planning -- False -- False\n",
      "says -- False -- False\n",
      "the -- True -- False\n",
      "birds -- False -- False\n",
      "very -- True -- False\n",
      "rarely -- False -- False\n",
      "take -- True -- False\n",
      "healthy -- False -- False\n",
      "lambs -- False -- False\n",
      "and -- True -- False\n",
      "never -- True -- False\n",
      "full -- True -- False\n",
      "- -- False -- True\n",
      "grown -- False -- False\n",
      "sheep -- False -- False\n",
      ". -- False -- True\n",
      "wildlife -- False -- False\n",
      "experts -- False -- False\n",
      "have -- True -- False\n",
      "said -- False -- False\n",
      "killing -- False -- False\n",
      "the -- True -- False\n",
      "resident -- False -- False\n",
      "pair -- False -- False\n",
      "creates -- False -- False\n",
      "a -- True -- False\n",
      "territorial -- False -- False\n",
      "vacuum -- False -- False\n",
      "that -- True -- False\n",
      "encourages -- False -- False\n",
      "more -- True -- False\n",
      "birds -- False -- False\n",
      "to -- True -- False\n",
      "come -- False -- False\n",
      ". -- False -- True\n",
      "  -- False -- False\n",
      "to -- True -- False\n",
      "report -- False -- False\n",
      "wildlife -- False -- False\n",
      "crime -- False -- False\n",
      "contact -- False -- False\n",
      "crimestoppers -- False -- False\n",
      "on -- True -- False\n",
      "1800 -- False -- False\n",
      "333 -- False -- False\n",
      "000 -- False -- False\n",
      ". -- False -- True\n"
     ]
    }
   ],
   "source": [
    "for token in nlp(txt0):\n",
    "    print(token.text, '--', token.is_stop, '--', token.is_punct)"
   ]
  },
  {
   "cell_type": "code",
   "execution_count": null,
   "metadata": {},
   "outputs": [],
   "source": []
  }
 ],
 "metadata": {
  "kernelspec": {
   "display_name": "Python 3 (ipykernel)",
   "language": "python",
   "name": "python3"
  },
  "language_info": {
   "codemirror_mode": {
    "name": "ipython",
    "version": 3
   },
   "file_extension": ".py",
   "mimetype": "text/x-python",
   "name": "python",
   "nbconvert_exporter": "python",
   "pygments_lexer": "ipython3",
   "version": "3.9.7"
  }
 },
 "nbformat": 4,
 "nbformat_minor": 2
}
