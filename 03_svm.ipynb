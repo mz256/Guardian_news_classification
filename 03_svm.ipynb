{
 "cells": [
  {
   "cell_type": "markdown",
   "id": "20178ef0",
   "metadata": {},
   "source": [
    "# Model training: SVM"
   ]
  },
  {
   "cell_type": "code",
   "execution_count": 1,
   "id": "321371cf",
   "metadata": {},
   "outputs": [],
   "source": [
    "import pickle\n",
    "import pandas as pd\n",
    "from sklearn import svm\n",
    "from sklearn.model_selection import RandomizedSearchCV, GridSearchCV\n",
    "from sklearn.metrics import accuracy_score, classification_report, confusion_matrix\n",
    "\n",
    "import seaborn as sns\n",
    "import matplotlib.pyplot as plt"
   ]
  },
  {
   "cell_type": "code",
   "execution_count": 2,
   "id": "758d4143",
   "metadata": {},
   "outputs": [],
   "source": [
    "with open(\"processed/vectors_train.pickle\",'rb') as file:\n",
    "    vectors_train = pickle.load(file)\n",
    "\n",
    "with open(\"processed/y_train.pickle\",'rb') as file:\n",
    "    y_train = pickle.load(file)\n",
    "    \n",
    "with open(\"processed/vectors_test.pickle\",'rb') as file:\n",
    "    vectors_test = pickle.load(file)\n",
    "    \n",
    "with open(\"processed/y_test.pickle\",'rb') as file:\n",
    "    y_test = pickle.load(file)"
   ]
  },
  {
   "cell_type": "markdown",
   "id": "a7e52a7d",
   "metadata": {},
   "source": [
    "Initialise a SVM and see which parameters control its behaviour."
   ]
  },
  {
   "cell_type": "code",
   "execution_count": 3,
   "id": "5c609bd3",
   "metadata": {},
   "outputs": [
    {
     "data": {
      "text/plain": [
       "{'C': 1.0,\n",
       " 'break_ties': False,\n",
       " 'cache_size': 200,\n",
       " 'class_weight': None,\n",
       " 'coef0': 0.0,\n",
       " 'decision_function_shape': 'ovr',\n",
       " 'degree': 3,\n",
       " 'gamma': 'scale',\n",
       " 'kernel': 'rbf',\n",
       " 'max_iter': -1,\n",
       " 'probability': False,\n",
       " 'random_state': 42,\n",
       " 'shrinking': True,\n",
       " 'tol': 0.001,\n",
       " 'verbose': False}"
      ]
     },
     "execution_count": 3,
     "metadata": {},
     "output_type": "execute_result"
    }
   ],
   "source": [
    "svc = svm.SVC(random_state=42)\n",
    "svc.get_params()"
   ]
  },
  {
   "cell_type": "markdown",
   "id": "6c2afb56",
   "metadata": {},
   "source": [
    "The first thing to do is to choose which hyperparameters to tune. We try the most common kernels, various levels of regularisation and the kernel parameters gamma (active for all but linear kernel) and degree (only for poly). Here we use a random search."
   ]
  },
  {
   "cell_type": "code",
   "execution_count": 4,
   "id": "313fad13",
   "metadata": {},
   "outputs": [],
   "source": [
    "my_params = {\n",
    "    'kernel': ('rbf', 'poly', 'linear'),\n",
    "    'C': (0.0001, 0.001, 0.01),\n",
    "    'gamma': (0.01, 1, 10, 100),\n",
    "    'degree': tuple(range(1, 6)),\n",
    "    'probability' : (True,)\n",
    "}"
   ]
  },
  {
   "cell_type": "code",
   "execution_count": 5,
   "id": "f4feb2fc",
   "metadata": {},
   "outputs": [
    {
     "name": "stdout",
     "output_type": "stream",
     "text": [
      "Fitting 3 folds for each of 70 candidates, totalling 210 fits\n",
      "CPU times: user 8min 50s, sys: 3.37 s, total: 8min 54s\n",
      "Wall time: 9min 17s\n"
     ]
    }
   ],
   "source": [
    "%%time\n",
    "clf = RandomizedSearchCV(estimator=svc,\n",
    "                         param_distributions=my_params,\n",
    "                         n_iter=70,\n",
    "                         cv=3,\n",
    "                         scoring='accuracy',\n",
    "                         random_state=42,\n",
    "                         verbose=1)\n",
    "\n",
    "search = clf.fit(vectors_train, y_train)"
   ]
  },
  {
   "cell_type": "markdown",
   "id": "fab267bb",
   "metadata": {},
   "source": [
    "Let's print some of the insights from the random search."
   ]
  },
  {
   "cell_type": "code",
   "execution_count": 6,
   "id": "1d3386e5",
   "metadata": {},
   "outputs": [
    {
     "name": "stdout",
     "output_type": "stream",
     "text": [
      "Best score: 0.8942395814724281\n",
      "With parameters: {'probability': True, 'kernel': 'poly', 'gamma': 100, 'degree': 2, 'C': 0.0001}\n",
      "\n",
      "Not-so-bad combos (format: Avg CV score (+/- std), parameter set):\n",
      "0.839 (+/-0.006), {'probability': True, 'kernel': 'poly', 'gamma': 100, 'degree': 5, 'C': 0.001}\n",
      "0.887 (+/-0.007), {'probability': True, 'kernel': 'poly', 'gamma': 100, 'degree': 2, 'C': 0.01}\n",
      "0.839 (+/-0.006), {'probability': True, 'kernel': 'poly', 'gamma': 10, 'degree': 5, 'C': 0.0001}\n",
      "0.839 (+/-0.006), {'probability': True, 'kernel': 'poly', 'gamma': 10, 'degree': 5, 'C': 0.001}\n",
      "0.870 (+/-0.012), {'probability': True, 'kernel': 'poly', 'gamma': 100, 'degree': 4, 'C': 0.0001}\n",
      "0.887 (+/-0.007), {'probability': True, 'kernel': 'poly', 'gamma': 100, 'degree': 2, 'C': 0.001}\n",
      "0.894 (+/-0.008), {'probability': True, 'kernel': 'poly', 'gamma': 100, 'degree': 2, 'C': 0.0001}\n",
      "\n",
      "Classification report:\n",
      "              precision    recall  f1-score   support\n",
      "\n",
      " environment       0.90      0.95      0.92       154\n",
      "    business       0.92      0.92      0.92       119\n",
      "        film       0.88      0.86      0.87       155\n",
      "     culture       0.82      0.78      0.80       129\n",
      "   education       0.96      0.95      0.95       121\n",
      "\n",
      "    accuracy                           0.89       678\n",
      "   macro avg       0.89      0.89      0.89       678\n",
      "weighted avg       0.89      0.89      0.89       678\n",
      "\n"
     ]
    }
   ],
   "source": [
    "# best score and parameters\n",
    "print(f\"Best score: {search.best_score_}\")\n",
    "print(f\"With parameters: {search.best_params_}\\n\")\n",
    "\n",
    "# print combinations with high average accuracy across folds\n",
    "print(\"Not-so-bad combos (format: Avg CV score (+/- std), parameter set):\")\n",
    "means = search.cv_results_['mean_test_score']\n",
    "stds = search.cv_results_['std_test_score']\n",
    "for mean, std, params in zip(means, stds, search.cv_results_['params']):\n",
    "    if mean > .8:\n",
    "        print(f\"{mean:.3f} (+/-{std:.3f}), {params}\")\n",
    "        \n",
    "print(\"\\nClassification report:\")\n",
    "target_names = ['environment', 'business', 'film', 'culture', 'education']\n",
    "print(classification_report(y_test, search.predict(vectors_test), target_names=target_names))"
   ]
  },
  {
   "cell_type": "markdown",
   "id": "7277c618",
   "metadata": {},
   "source": [
    "Notice that the model scores for the \"film\" and \"culture\" classes are much lower. We can inspect further the model's predictions for these classes, to understand what is going sideways. First, though, let's extract the model version with best CV accuracy and re-train it on the whole training set."
   ]
  },
  {
   "cell_type": "code",
   "execution_count": 7,
   "id": "3292bacd",
   "metadata": {},
   "outputs": [
    {
     "name": "stdout",
     "output_type": "stream",
     "text": [
      "Training accuracy: 0.9798327594687654\n",
      "Test accuracy: 0.8938053097345132\n"
     ]
    }
   ],
   "source": [
    "# train best model\n",
    "best_clf = search.best_estimator_\n",
    "best_clf.fit(vectors_train, y_train)\n",
    "\n",
    "# predict on the test set\n",
    "y_pred = best_clf.predict(vectors_test)\n",
    "\n",
    "# check accuracy on training and test\n",
    "training_score = accuracy_score(y_train, best_clf.predict(vectors_train))\n",
    "test_score = accuracy_score(y_test, y_pred)\n",
    "print(f\"Training accuracy: {training_score}\")\n",
    "print(f\"Test accuracy: {test_score}\")"
   ]
  },
  {
   "cell_type": "markdown",
   "id": "38132806",
   "metadata": {},
   "source": [
    "Finally, let's print the confusion matrix, to understand when the model is struggling."
   ]
  },
  {
   "cell_type": "code",
   "execution_count": 8,
   "id": "6bf68c19",
   "metadata": {},
   "outputs": [
    {
     "data": {
      "image/png": "[encoded data removed]",
      "text/plain": [
       "<Figure size 864x432 with 2 Axes>"
      ]
     },
     "metadata": {
      "needs_background": "light"
     },
     "output_type": "display_data"
    }
   ],
   "source": [
    "plt.figure(figsize=(12,6))\n",
    "ax = sns.heatmap(confusion_matrix(y_test, y_pred),\n",
    "            xticklabels=target_names,\n",
    "            yticklabels=target_names,\n",
    "            annot=True,\n",
    "            fmt='d',\n",
    "            cmap='GnBu')\n",
    "ax.set_title(\"Confusion matrix\", fontsize=15)\n",
    "ax.set_xlabel('Predicted class', labelpad=15., fontsize=13);\n",
    "ax.set_ylabel('Actual class', labelpad=15., fontsize=13);"
   ]
  },
  {
   "cell_type": "markdown",
   "id": "b4a1a119",
   "metadata": {},
   "source": [
    "As expected, the model is most confused when dealing with articles from the \"film\" and \"culture\" sections of the Guardian. Even though we could have reasonably guessed it, the additional information we obtain explicitly from the confusion matrix is that the model mostly confuses film with culture and vice versa. This allows us to formulate the hypothesis that these two classes are very similar."
   ]
  },
  {
   "cell_type": "code",
   "execution_count": 9,
   "id": "aaa5286f",
   "metadata": {},
   "outputs": [
    {
     "data": {
      "text/html": [
       "<div>\n",
       "<style scoped>\n",
       "    .dataframe tbody tr th:only-of-type {\n",
       "        vertical-align: middle;\n",
       "    }\n",
       "\n",
       "    .dataframe tbody tr th {\n",
       "        vertical-align: top;\n",
       "    }\n",
       "\n",
       "    .dataframe thead th {\n",
       "        text-align: right;\n",
       "    }\n",
       "</style>\n",
       "<table border=\"1\" class=\"dataframe\">\n",
       "  <thead>\n",
       "    <tr style=\"text-align: right;\">\n",
       "      <th></th>\n",
       "      <th>Model name</th>\n",
       "      <th>Training score</th>\n",
       "      <th>Test score</th>\n",
       "    </tr>\n",
       "  </thead>\n",
       "  <tbody>\n",
       "    <tr>\n",
       "      <th>0</th>\n",
       "      <td>SVM</td>\n",
       "      <td>0.979833</td>\n",
       "      <td>0.893805</td>\n",
       "    </tr>\n",
       "  </tbody>\n",
       "</table>\n",
       "</div>"
      ],
      "text/plain": [
       "  Model name  Training score  Test score\n",
       "0        SVM        0.979833    0.893805"
      ]
     },
     "execution_count": 9,
     "metadata": {},
     "output_type": "execute_result"
    }
   ],
   "source": [
    "summary = pd.DataFrame(data=\n",
    "                      {'Model name': 'SVM',\n",
    "                       'Training score': training_score,\n",
    "                       'Test score': test_score},\n",
    "                       index=[0])\n",
    "summary"
   ]
  },
  {
   "cell_type": "code",
   "execution_count": 10,
   "id": "9cea8e84",
   "metadata": {},
   "outputs": [],
   "source": [
    "with open(\"models/best_svm.pickle\", 'wb') as file:\n",
    "    pickle.dump(best_clf, file)\n",
    "    \n",
    "with open(\"models/summary_svm.pickle\", 'wb') as file:\n",
    "    pickle.dump(summary, file)"
   ]
  }
 ],
 "metadata": {
  "kernelspec": {
   "display_name": "Python 3 (ipykernel)",
   "language": "python",
   "name": "python3"
  },
  "language_info": {
   "codemirror_mode": {
    "name": "ipython",
    "version": 3
   },
   "file_extension": ".py",
   "mimetype": "text/x-python",
   "name": "python",
   "nbconvert_exporter": "python",
   "pygments_lexer": "ipython3",
   "version": "3.9.7"
  }
 },
 "nbformat": 4,
 "nbformat_minor": 5
}
