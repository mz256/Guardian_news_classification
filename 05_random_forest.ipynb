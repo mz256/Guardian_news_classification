{
 "cells": [
  {
   "cell_type": "markdown",
   "id": "c503bc3e",
   "metadata": {},
   "source": [
    "# Model training: Random Forest"
   ]
  },
  {
   "cell_type": "code",
   "execution_count": 1,
   "id": "842e7c78",
   "metadata": {},
   "outputs": [],
   "source": [
    "import pickle\n",
    "import pandas as pd\n",
    "from sklearn.ensemble import RandomForestClassifier\n",
    "from sklearn.model_selection import RandomizedSearchCV, GridSearchCV\n",
    "from sklearn.metrics import accuracy_score, classification_report, confusion_matrix\n",
    "\n",
    "import seaborn as sns\n",
    "import matplotlib.pyplot as plt"
   ]
  },
  {
   "cell_type": "code",
   "execution_count": 2,
   "id": "d0bb8cfc",
   "metadata": {},
   "outputs": [],
   "source": [
    "with open(\"processed/vectors_train.pickle\",'rb') as file:\n",
    "    vectors_train = pickle.load(file)\n",
    "\n",
    "with open(\"processed/y_train.pickle\",'rb') as file:\n",
    "    y_train = pickle.load(file)\n",
    "    \n",
    "with open(\"processed/vectors_test.pickle\",'rb') as file:\n",
    "    vectors_test = pickle.load(file)\n",
    "    \n",
    "with open(\"processed/y_test.pickle\",'rb') as file:\n",
    "    y_test = pickle.load(file)"
   ]
  },
  {
   "cell_type": "code",
   "execution_count": 3,
   "id": "dc5c3b4d",
   "metadata": {},
   "outputs": [
    {
     "data": {
      "text/plain": [
       "{'bootstrap': True,\n",
       " 'ccp_alpha': 0.0,\n",
       " 'class_weight': None,\n",
       " 'criterion': 'gini',\n",
       " 'max_depth': None,\n",
       " 'max_features': 'auto',\n",
       " 'max_leaf_nodes': None,\n",
       " 'max_samples': None,\n",
       " 'min_impurity_decrease': 0.0,\n",
       " 'min_samples_leaf': 1,\n",
       " 'min_samples_split': 2,\n",
       " 'min_weight_fraction_leaf': 0.0,\n",
       " 'n_estimators': 100,\n",
       " 'n_jobs': None,\n",
       " 'oob_score': False,\n",
       " 'random_state': 42,\n",
       " 'verbose': 0,\n",
       " 'warm_start': False}"
      ]
     },
     "execution_count": 3,
     "metadata": {},
     "output_type": "execute_result"
    }
   ],
   "source": [
    "rf = RandomForestClassifier(random_state=42)\n",
    "rf.get_params()"
   ]
  },
  {
   "cell_type": "code",
   "execution_count": 12,
   "id": "f041493f",
   "metadata": {},
   "outputs": [],
   "source": [
    "my_params = {\n",
    "    'n_estimators': tuple(range(200, 1000, 200)),\n",
    "    'max_depth': (10, 20, 50),\n",
    "    'max_features': ('auto', .8),\n",
    "    'min_samples_leaf': tuple(range(1, 4)),\n",
    "    'criterion': ('gini','entropy'),\n",
    "    'random_state' : (42,)\n",
    "}"
   ]
  },
  {
   "cell_type": "code",
   "execution_count": 13,
   "id": "998a4b05",
   "metadata": {},
   "outputs": [
    {
     "name": "stdout",
     "output_type": "stream",
     "text": [
      "Fitting 3 folds for each of 30 candidates, totalling 90 fits\n",
      "CPU times: user 29min 7s, sys: 24 s, total: 29min 31s\n",
      "Wall time: 31min 32s\n"
     ]
    }
   ],
   "source": [
    "%%time\n",
    "clf = RandomizedSearchCV(estimator=rf,\n",
    "                         param_distributions=my_params,\n",
    "                         n_iter=30,\n",
    "                         cv=3,\n",
    "                         scoring='accuracy',\n",
    "                         random_state=42,\n",
    "                         verbose=1)\n",
    "\n",
    "search = clf.fit(vectors_train, y_train)"
   ]
  },
  {
   "cell_type": "code",
   "execution_count": 14,
   "id": "0638f360",
   "metadata": {},
   "outputs": [
    {
     "name": "stdout",
     "output_type": "stream",
     "text": [
      "Best score: 0.8878402460970009\n",
      "With parameters: {'random_state': 42, 'n_estimators': 600, 'min_samples_leaf': 1, 'max_features': 'auto', 'max_depth': 20, 'criterion': 'gini'}\n",
      "\n",
      "Not-so-bad combos (format: Avg CV score (+/- std), parameter set):\n",
      "0.826 (+/-0.017), {'random_state': 42, 'n_estimators': 400, 'min_samples_leaf': 3, 'max_features': 0.8, 'max_depth': 20, 'criterion': 'entropy'}\n",
      "0.807 (+/-0.016), {'random_state': 42, 'n_estimators': 800, 'min_samples_leaf': 2, 'max_features': 0.8, 'max_depth': 10, 'criterion': 'gini'}\n",
      "0.871 (+/-0.016), {'random_state': 42, 'n_estimators': 600, 'min_samples_leaf': 3, 'max_features': 'auto', 'max_depth': 10, 'criterion': 'entropy'}\n",
      "0.883 (+/-0.014), {'random_state': 42, 'n_estimators': 400, 'min_samples_leaf': 1, 'max_features': 'auto', 'max_depth': 20, 'criterion': 'entropy'}\n",
      "0.880 (+/-0.010), {'random_state': 42, 'n_estimators': 200, 'min_samples_leaf': 3, 'max_features': 'auto', 'max_depth': 50, 'criterion': 'gini'}\n",
      "0.807 (+/-0.018), {'random_state': 42, 'n_estimators': 200, 'min_samples_leaf': 1, 'max_features': 0.8, 'max_depth': 10, 'criterion': 'gini'}\n",
      "0.831 (+/-0.019), {'random_state': 42, 'n_estimators': 200, 'min_samples_leaf': 1, 'max_features': 0.8, 'max_depth': 50, 'criterion': 'entropy'}\n",
      "0.826 (+/-0.014), {'random_state': 42, 'n_estimators': 400, 'min_samples_leaf': 2, 'max_features': 0.8, 'max_depth': 50, 'criterion': 'gini'}\n",
      "0.825 (+/-0.016), {'random_state': 42, 'n_estimators': 600, 'min_samples_leaf': 2, 'max_features': 0.8, 'max_depth': 50, 'criterion': 'gini'}\n",
      "0.808 (+/-0.018), {'random_state': 42, 'n_estimators': 600, 'min_samples_leaf': 2, 'max_features': 0.8, 'max_depth': 10, 'criterion': 'gini'}\n",
      "0.883 (+/-0.014), {'random_state': 42, 'n_estimators': 800, 'min_samples_leaf': 1, 'max_features': 'auto', 'max_depth': 50, 'criterion': 'gini'}\n",
      "0.875 (+/-0.016), {'random_state': 42, 'n_estimators': 600, 'min_samples_leaf': 2, 'max_features': 'auto', 'max_depth': 10, 'criterion': 'entropy'}\n",
      "0.810 (+/-0.019), {'random_state': 42, 'n_estimators': 600, 'min_samples_leaf': 3, 'max_features': 0.8, 'max_depth': 10, 'criterion': 'entropy'}\n",
      "0.830 (+/-0.017), {'random_state': 42, 'n_estimators': 400, 'min_samples_leaf': 1, 'max_features': 0.8, 'max_depth': 50, 'criterion': 'entropy'}\n",
      "0.875 (+/-0.014), {'random_state': 42, 'n_estimators': 200, 'min_samples_leaf': 2, 'max_features': 'auto', 'max_depth': 20, 'criterion': 'entropy'}\n",
      "0.823 (+/-0.014), {'random_state': 42, 'n_estimators': 200, 'min_samples_leaf': 2, 'max_features': 0.8, 'max_depth': 50, 'criterion': 'gini'}\n",
      "0.886 (+/-0.012), {'random_state': 42, 'n_estimators': 800, 'min_samples_leaf': 1, 'max_features': 'auto', 'max_depth': 20, 'criterion': 'gini'}\n",
      "0.819 (+/-0.012), {'random_state': 42, 'n_estimators': 400, 'min_samples_leaf': 3, 'max_features': 0.8, 'max_depth': 50, 'criterion': 'gini'}\n",
      "0.881 (+/-0.014), {'random_state': 42, 'n_estimators': 400, 'min_samples_leaf': 2, 'max_features': 'auto', 'max_depth': 50, 'criterion': 'entropy'}\n",
      "0.870 (+/-0.016), {'random_state': 42, 'n_estimators': 400, 'min_samples_leaf': 1, 'max_features': 'auto', 'max_depth': 10, 'criterion': 'entropy'}\n",
      "0.878 (+/-0.013), {'random_state': 42, 'n_estimators': 800, 'min_samples_leaf': 3, 'max_features': 'auto', 'max_depth': 10, 'criterion': 'gini'}\n",
      "0.826 (+/-0.018), {'random_state': 42, 'n_estimators': 800, 'min_samples_leaf': 3, 'max_features': 0.8, 'max_depth': 20, 'criterion': 'entropy'}\n",
      "0.831 (+/-0.019), {'random_state': 42, 'n_estimators': 600, 'min_samples_leaf': 1, 'max_features': 0.8, 'max_depth': 20, 'criterion': 'entropy'}\n",
      "0.827 (+/-0.016), {'random_state': 42, 'n_estimators': 400, 'min_samples_leaf': 2, 'max_features': 0.8, 'max_depth': 20, 'criterion': 'entropy'}\n",
      "0.884 (+/-0.014), {'random_state': 42, 'n_estimators': 800, 'min_samples_leaf': 2, 'max_features': 'auto', 'max_depth': 50, 'criterion': 'gini'}\n",
      "0.819 (+/-0.012), {'random_state': 42, 'n_estimators': 400, 'min_samples_leaf': 3, 'max_features': 0.8, 'max_depth': 20, 'criterion': 'gini'}\n",
      "0.873 (+/-0.014), {'random_state': 42, 'n_estimators': 400, 'min_samples_leaf': 3, 'max_features': 'auto', 'max_depth': 10, 'criterion': 'gini'}\n",
      "0.873 (+/-0.014), {'random_state': 42, 'n_estimators': 200, 'min_samples_leaf': 2, 'max_features': 'auto', 'max_depth': 10, 'criterion': 'gini'}\n",
      "0.888 (+/-0.015), {'random_state': 42, 'n_estimators': 600, 'min_samples_leaf': 1, 'max_features': 'auto', 'max_depth': 20, 'criterion': 'gini'}\n",
      "0.878 (+/-0.014), {'random_state': 42, 'n_estimators': 200, 'min_samples_leaf': 2, 'max_features': 'auto', 'max_depth': 50, 'criterion': 'entropy'}\n",
      "\n",
      "Classification report:\n",
      "              precision    recall  f1-score   support\n",
      "\n",
      " environment       0.90      0.91      0.91       154\n",
      "    business       0.87      0.88      0.87       119\n",
      "        film       0.85      0.91      0.88       155\n",
      "     culture       0.87      0.74      0.80       129\n",
      "   education       0.91      0.96      0.94       121\n",
      "\n",
      "    accuracy                           0.88       678\n",
      "   macro avg       0.88      0.88      0.88       678\n",
      "weighted avg       0.88      0.88      0.88       678\n",
      "\n"
     ]
    }
   ],
   "source": [
    "# best score and parameters\n",
    "print(f\"Best score: {search.best_score_}\")\n",
    "print(f\"With parameters: {search.best_params_}\\n\")\n",
    "\n",
    "# print combinations with high average accuracy across folds\n",
    "print(\"Not-so-bad combos (format: Avg CV score (+/- std), parameter set):\")\n",
    "means = search.cv_results_['mean_test_score']\n",
    "stds = search.cv_results_['std_test_score']\n",
    "for mean, std, params in zip(means, stds, search.cv_results_['params']):\n",
    "    if mean > .8:\n",
    "        print(f\"{mean:.3f} (+/-{std:.3f}), {params}\")\n",
    "        \n",
    "print(\"\\nClassification report:\")\n",
    "target_names = ['environment', 'business', 'film', 'culture', 'education']\n",
    "print(classification_report(y_test, search.predict(vectors_test), target_names=target_names))"
   ]
  },
  {
   "cell_type": "code",
   "execution_count": 15,
   "id": "7f06fe61",
   "metadata": {},
   "outputs": [
    {
     "name": "stdout",
     "output_type": "stream",
     "text": [
      "Training accuracy: 0.9980324643384161\n",
      "Test accuracy: 0.8820058997050148\n"
     ]
    }
   ],
   "source": [
    "# train best model\n",
    "best_clf = search.best_estimator_\n",
    "best_clf.fit(vectors_train, y_train)\n",
    "\n",
    "# predict on the test set\n",
    "y_pred = best_clf.predict(vectors_test)\n",
    "\n",
    "# check accuracy on training and test\n",
    "training_score = accuracy_score(y_train, best_clf.predict(vectors_train))\n",
    "test_score = accuracy_score(y_test, y_pred)\n",
    "print(f\"Training accuracy: {training_score}\")\n",
    "print(f\"Test accuracy: {test_score}\")"
   ]
  },
  {
   "cell_type": "code",
   "execution_count": 16,
   "id": "16be7ddd",
   "metadata": {},
   "outputs": [
    {
     "data": {
      "image/png": "[encoded data removed]",
      "text/plain": [
       "<Figure size 864x432 with 2 Axes>"
      ]
     },
     "metadata": {
      "needs_background": "light"
     },
     "output_type": "display_data"
    }
   ],
   "source": [
    "plt.figure(figsize=(12,6))\n",
    "ax = sns.heatmap(confusion_matrix(y_test, y_pred),\n",
    "            xticklabels=target_names,\n",
    "            yticklabels=target_names,\n",
    "            annot=True,\n",
    "            fmt='d',\n",
    "            cmap='GnBu')\n",
    "ax.set_title(\"Confusion matrix\", fontsize=15)\n",
    "ax.set_xlabel('Predicted class', labelpad=15., fontsize=13);\n",
    "ax.set_ylabel('Actual class', labelpad=15., fontsize=13);"
   ]
  },
  {
   "cell_type": "code",
   "execution_count": 17,
   "id": "437cc41a",
   "metadata": {},
   "outputs": [
    {
     "data": {
      "text/html": [
       "<div>\n",
       "<style scoped>\n",
       "    .dataframe tbody tr th:only-of-type {\n",
       "        vertical-align: middle;\n",
       "    }\n",
       "\n",
       "    .dataframe tbody tr th {\n",
       "        vertical-align: top;\n",
       "    }\n",
       "\n",
       "    .dataframe thead th {\n",
       "        text-align: right;\n",
       "    }\n",
       "</style>\n",
       "<table border=\"1\" class=\"dataframe\">\n",
       "  <thead>\n",
       "    <tr style=\"text-align: right;\">\n",
       "      <th></th>\n",
       "      <th>Model name</th>\n",
       "      <th>Training score</th>\n",
       "      <th>Test score</th>\n",
       "    </tr>\n",
       "  </thead>\n",
       "  <tbody>\n",
       "    <tr>\n",
       "      <th>0</th>\n",
       "      <td>SVM</td>\n",
       "      <td>0.998032</td>\n",
       "      <td>0.882006</td>\n",
       "    </tr>\n",
       "  </tbody>\n",
       "</table>\n",
       "</div>"
      ],
      "text/plain": [
       "  Model name  Training score  Test score\n",
       "0        SVM        0.998032    0.882006"
      ]
     },
     "execution_count": 17,
     "metadata": {},
     "output_type": "execute_result"
    }
   ],
   "source": [
    "summary = pd.DataFrame(data=\n",
    "                      {'Model name': 'SVM',\n",
    "                       'Training score': training_score,\n",
    "                       'Test score': test_score},\n",
    "                       index=[0])\n",
    "summary"
   ]
  },
  {
   "cell_type": "code",
   "execution_count": 18,
   "id": "6a0fc434",
   "metadata": {},
   "outputs": [],
   "source": [
    "with open(\"models/best_svm.pickle\", 'wb') as file:\n",
    "    pickle.dump(best_clf, file)\n",
    "    \n",
    "with open(\"models/summary_svm.pickle\", 'wb') as file:\n",
    "    pickle.dump(summary, file)"
   ]
  }
 ],
 "metadata": {
  "kernelspec": {
   "display_name": "Python 3 (ipykernel)",
   "language": "python",
   "name": "python3"
  },
  "language_info": {
   "codemirror_mode": {
    "name": "ipython",
    "version": 3
   },
   "file_extension": ".py",
   "mimetype": "text/x-python",
   "name": "python",
   "nbconvert_exporter": "python",
   "pygments_lexer": "ipython3",
   "version": "3.9.7"
  }
 },
 "nbformat": 4,
 "nbformat_minor": 5
}
