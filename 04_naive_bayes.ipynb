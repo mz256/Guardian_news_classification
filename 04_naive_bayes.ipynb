{
 "cells": [
  {
   "cell_type": "markdown",
   "id": "34f576eb",
   "metadata": {},
   "source": [
    "# Model training: Multinomial NB"
   ]
  },
  {
   "cell_type": "code",
   "execution_count": 1,
   "id": "98094738",
   "metadata": {},
   "outputs": [],
   "source": [
    "import pickle\n",
    "import pandas as pd\n",
    "from sklearn.naive_bayes import MultinomialNB\n",
    "from sklearn.metrics import accuracy_score, classification_report, confusion_matrix\n",
    "\n",
    "import matplotlib.pyplot as plt\n",
    "import seaborn as sns"
   ]
  },
  {
   "cell_type": "code",
   "execution_count": 2,
   "id": "b2dbf115",
   "metadata": {},
   "outputs": [],
   "source": [
    "with open(\"processed/vectors_train.pickle\",'rb') as file:\n",
    "    vectors_train = pickle.load(file)\n",
    "\n",
    "with open(\"processed/y_train.pickle\",'rb') as file:\n",
    "    y_train = pickle.load(file)\n",
    "    \n",
    "with open(\"processed/vectors_test.pickle\",'rb') as file:\n",
    "    vectors_test = pickle.load(file)\n",
    "    \n",
    "with open(\"processed/y_test.pickle\",'rb') as file:\n",
    "    y_test = pickle.load(file)"
   ]
  },
  {
   "cell_type": "code",
   "execution_count": 3,
   "id": "2f1f1d12",
   "metadata": {},
   "outputs": [
    {
     "data": {
      "text/plain": [
       "{'alpha': 1.0, 'class_prior': None, 'fit_prior': True}"
      ]
     },
     "execution_count": 3,
     "metadata": {},
     "output_type": "execute_result"
    }
   ],
   "source": [
    "multiNB = MultinomialNB()\n",
    "multiNB.get_params()"
   ]
  },
  {
   "cell_type": "code",
   "execution_count": 4,
   "id": "75e172ee",
   "metadata": {},
   "outputs": [
    {
     "name": "stdout",
     "output_type": "stream",
     "text": [
      "Training accuracy: 0.8873585833743236\n",
      "Test accuracy: 0.8628318584070797\n"
     ]
    }
   ],
   "source": [
    "multiNB.fit(vectors_train, y_train)\n",
    "y_pred = multiNB.predict(vectors_test)\n",
    "\n",
    "# check accuracy on training and test\n",
    "training_score = accuracy_score(y_train, multiNB.predict(vectors_train))\n",
    "test_score = accuracy_score(y_test, y_pred)\n",
    "print(f\"Training accuracy: {training_score}\")\n",
    "print(f\"Test accuracy: {test_score}\")"
   ]
  },
  {
   "cell_type": "code",
   "execution_count": 5,
   "id": "fe890506",
   "metadata": {},
   "outputs": [
    {
     "data": {
      "image/png": "[encoded data removed]",
      "text/plain": [
       "<Figure size 864x432 with 2 Axes>"
      ]
     },
     "metadata": {
      "needs_background": "light"
     },
     "output_type": "display_data"
    }
   ],
   "source": [
    "target_names = ['environment', 'business', 'film', 'culture', 'education']\n",
    "\n",
    "plt.figure(figsize=(12,6))\n",
    "ax = sns.heatmap(confusion_matrix(y_test, y_pred),\n",
    "            xticklabels=target_names,\n",
    "            yticklabels=target_names,\n",
    "            annot=True,\n",
    "            fmt='d',\n",
    "            cmap='GnBu')\n",
    "ax.set_title(\"Confusion matrix\", fontsize=15)\n",
    "ax.set_xlabel('Predicted class', labelpad=15., fontsize=13);\n",
    "ax.set_ylabel('Actual class', labelpad=15., fontsize=13);"
   ]
  },
  {
   "cell_type": "code",
   "execution_count": 6,
   "id": "541e7a7a",
   "metadata": {},
   "outputs": [
    {
     "data": {
      "text/html": [
       "<div>\n",
       "<style scoped>\n",
       "    .dataframe tbody tr th:only-of-type {\n",
       "        vertical-align: middle;\n",
       "    }\n",
       "\n",
       "    .dataframe tbody tr th {\n",
       "        vertical-align: top;\n",
       "    }\n",
       "\n",
       "    .dataframe thead th {\n",
       "        text-align: right;\n",
       "    }\n",
       "</style>\n",
       "<table border=\"1\" class=\"dataframe\">\n",
       "  <thead>\n",
       "    <tr style=\"text-align: right;\">\n",
       "      <th></th>\n",
       "      <th>Model name</th>\n",
       "      <th>Training score</th>\n",
       "      <th>Test score</th>\n",
       "    </tr>\n",
       "  </thead>\n",
       "  <tbody>\n",
       "    <tr>\n",
       "      <th>0</th>\n",
       "      <td>MultiNB</td>\n",
       "      <td>0.887359</td>\n",
       "      <td>0.862832</td>\n",
       "    </tr>\n",
       "  </tbody>\n",
       "</table>\n",
       "</div>"
      ],
      "text/plain": [
       "  Model name  Training score  Test score\n",
       "0    MultiNB        0.887359    0.862832"
      ]
     },
     "execution_count": 6,
     "metadata": {},
     "output_type": "execute_result"
    }
   ],
   "source": [
    "summary = pd.DataFrame(data=\n",
    "                      {'Model name': 'MultiNB',\n",
    "                       'Training score': training_score,\n",
    "                       'Test score': test_score},\n",
    "                       index=[0])\n",
    "summary"
   ]
  },
  {
   "cell_type": "code",
   "execution_count": 7,
   "id": "52a098b4",
   "metadata": {},
   "outputs": [],
   "source": [
    "with open(\"models/best_NB.pickle\", 'wb') as file:\n",
    "    pickle.dump(multiNB, file)\n",
    "    \n",
    "with open(\"models/summary_NB.pickle\", 'wb') as file:\n",
    "    pickle.dump(summary, file)"
   ]
  },
  {
   "cell_type": "code",
   "execution_count": null,
   "id": "8c56b1dd",
   "metadata": {},
   "outputs": [],
   "source": []
  }
 ],
 "metadata": {
  "kernelspec": {
   "display_name": "Python 3 (ipykernel)",
   "language": "python",
   "name": "python3"
  },
  "language_info": {
   "codemirror_mode": {
    "name": "ipython",
    "version": 3
   },
   "file_extension": ".py",
   "mimetype": "text/x-python",
   "name": "python",
   "nbconvert_exporter": "python",
   "pygments_lexer": "ipython3",
   "version": "3.9.7"
  }
 },
 "nbformat": 4,
 "nbformat_minor": 5
}
